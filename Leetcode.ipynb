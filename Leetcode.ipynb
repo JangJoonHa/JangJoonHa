{
  "nbformat": 4,
  "nbformat_minor": 0,
  "metadata": {
    "colab": {
      "provenance": [],
      "history_visible": true,
      "authorship_tag": "ABX9TyP1xCfamOny038XimF7VkMB",
      "include_colab_link": true
    },
    "kernelspec": {
      "name": "python3",
      "display_name": "Python 3"
    },
    "language_info": {
      "name": "python"
    }
  },
  "cells": [
    {
      "cell_type": "markdown",
      "metadata": {
        "id": "view-in-github",
        "colab_type": "text"
      },
      "source": [
        "<a href=\"https://colab.research.google.com/github/JangJoonHa/Leetcode/blob/main/Leetcode.ipynb\" target=\"_parent\"><img src=\"https://colab.research.google.com/assets/colab-badge.svg\" alt=\"Open In Colab\"/></a>"
      ]
    },
    {
      "cell_type": "markdown",
      "source": [
        "1. Two sum"
      ],
      "metadata": {
        "id": "O295Wx41Qiha"
      }
    },
    {
      "cell_type": "code",
      "execution_count": null,
      "metadata": {
        "id": "3zb4dL0ePIVC"
      },
      "outputs": [],
      "source": [
        "class Solution:\n",
        "    def twoSum(self, nums, target):\n",
        "        num_to_index = {}\n",
        "\n",
        "        for index, num in enumerate(nums):\n",
        "            complement = target - num\n",
        "            if complement in num_to_index:\n",
        "                return [num_to_index[complement], index]\n",
        "            num_to_index[num] = index\n",
        "        return []\n"
      ]
    },
    {
      "cell_type": "markdown",
      "source": [
        "2. Add Two Numbers"
      ],
      "metadata": {
        "id": "j2KMwqjBSE9T"
      }
    },
    {
      "cell_type": "markdown",
      "source": [],
      "metadata": {
        "id": "dj7vgUSPSBJv"
      }
    },
    {
      "cell_type": "code",
      "source": [
        "class ListNode:\n",
        "    def __init__(self, val=0, next=None):\n",
        "        self.val = val\n",
        "        self.next = next\n",
        "\n",
        "class Solution:\n",
        "    def addTwoNumbers(self, l1, l2):\n",
        "        dummy_head = ListNode(0)\n",
        "        current = dummy_head\n",
        "        carry = 0\n",
        "\n",
        "        while l1 is not None or l2 is not None:\n",
        "            x = l1.val if l1 is not None else 0\n",
        "            y = l2.val if l2 is not None else 0\n",
        "            sum = carry + x + y\n",
        "            carry = sum // 10\n",
        "            current.next = ListNode(sum % 10)\n",
        "            current = current.next\n",
        "\n",
        "            if l1 is not None:\n",
        "                l1 = l1.next\n",
        "            if l2 is not None:\n",
        "                l2 = l2.next\n",
        "\n",
        "        if carry > 0:\n",
        "            current.next = ListNode(carry)\n",
        "\n",
        "        return dummy_head.next\n"
      ],
      "metadata": {
        "id": "zS01z_VLSELz"
      },
      "execution_count": null,
      "outputs": []
    },
    {
      "cell_type": "markdown",
      "source": [
        "3. Longest Substring Without Repeating Characters"
      ],
      "metadata": {
        "id": "OCfiFDZCT_Yn"
      }
    },
    {
      "cell_type": "code",
      "source": [
        "class Solution:\n",
        "    def lengthOfLongestSubstring(self, s):\n",
        "        char_index_map = {}\n",
        "        left = 0\n",
        "        max_length = 0\n",
        "\n",
        "        for right in range(len(s)):\n",
        "            if s[right] in char_index_map:\n",
        "                left = max(char_index_map[s[right]] + 1, left)\n",
        "\n",
        "            char_index_map[s[right]] = right\n",
        "            max_length = max(max_length, right - left + 1)\n",
        "\n",
        "        return max_length\n"
      ],
      "metadata": {
        "id": "ABMxX7d4UGqE"
      },
      "execution_count": null,
      "outputs": []
    },
    {
      "cell_type": "markdown",
      "source": [
        "4. Median of Two Sorted Arrays"
      ],
      "metadata": {
        "id": "byFl0xftUI3u"
      }
    },
    {
      "cell_type": "code",
      "source": [
        "class Solution:\n",
        "    def findMedianSortedArrays(self, nums1: List[int], nums2: List[int]) -> float:\n",
        "        merged = []\n",
        "        i, j = 0, 0\n",
        "\n",
        "        while i < len(nums1) and j < len(nums2):\n",
        "            if nums1[i] < nums2[j]:\n",
        "                merged.append(nums1[i])\n",
        "                i += 1\n",
        "            else:\n",
        "                merged.append(nums2[j])\n",
        "                j += 1\n",
        "\n",
        "        merged.extend(nums1[i:])\n",
        "        merged.extend(nums2[j:])\n",
        "\n",
        "        total_length = len(merged)\n",
        "        if total_length % 2 == 0:\n",
        "            return (merged[total_length // 2 - 1] + merged[total_length // 2]) / 2\n",
        "        else:\n",
        "            return merged[total_length // 2]\n"
      ],
      "metadata": {
        "id": "lEtQRHc6URGL"
      },
      "execution_count": null,
      "outputs": []
    },
    {
      "cell_type": "markdown",
      "source": [
        "5. Longest Palindromic Sunstring"
      ],
      "metadata": {
        "id": "s-aFOSO3QsnP"
      }
    },
    {
      "cell_type": "code",
      "source": [
        "class Solution:\n",
        "    def longestPalindrome(self, s: str) -> str:\n",
        "        n = len(s)\n",
        "        dp = [[False] * n for _ in range(n)]\n",
        "        start, max_length = 0, 1\n",
        "\n",
        "        for i in range(n):\n",
        "            dp[i][i] = True\n",
        "\n",
        "        for i in range(n-1):\n",
        "            if s[i] == s[i+1]:\n",
        "                dp[i][i+1] = True\n",
        "                start = i\n",
        "                max_length = 2\n",
        "\n",
        "        for length in range(3, n+1):\n",
        "            for i in range(n-length+1):\n",
        "                j = i + length - 1\n",
        "                if s[i] == s[j] and dp[i+1][j-1]:\n",
        "                    dp[i][j] = True\n",
        "                    start = i\n",
        "                    max_length = length\n",
        "\n",
        "        return s[start:start+max_length]\n"
      ],
      "metadata": {
        "id": "vqDvBMTEQrdf"
      },
      "execution_count": null,
      "outputs": []
    },
    {
      "cell_type": "markdown",
      "source": [
        "6. Zigzag Conversion"
      ],
      "metadata": {
        "id": "XezLS2DPVMdb"
      }
    },
    {
      "cell_type": "code",
      "source": [
        "class Solution:\n",
        "    def convert(self, s: str, numRows: int) -> str:\n",
        "        if numRows == 1 or numRows >= len(s):\n",
        "            return s\n",
        "\n",
        "        rows = [''] * numRows\n",
        "        index, step = 0, 1\n",
        "\n",
        "        for char in s:\n",
        "            rows[index] += char\n",
        "            if index == 0:\n",
        "                step = 1\n",
        "            elif index == numRows - 1:\n",
        "                step = -1\n",
        "            index += step\n",
        "\n",
        "        return ''.join(rows)\n"
      ],
      "metadata": {
        "id": "sz1MzBnzVRfX"
      },
      "execution_count": null,
      "outputs": []
    },
    {
      "cell_type": "markdown",
      "source": [
        "7. Reverse Integer"
      ],
      "metadata": {
        "id": "0frIXwcfVTeL"
      }
    },
    {
      "cell_type": "code",
      "source": [
        "class Solution:\n",
        "    def reverse(self, x: int) -> int:\n",
        "        INT_MAX = 2**31 - 1\n",
        "        INT_MIN = -2**31\n",
        "        result = 0\n",
        "\n",
        "        if x >= 0:\n",
        "            result = int(str(x)[::-1])\n",
        "        else:\n",
        "            result = -int(str(-x)[::-1])\n",
        "\n",
        "        if result < INT_MIN or result > INT_MAX:\n",
        "            return 0\n",
        "\n",
        "        return result\n"
      ],
      "metadata": {
        "id": "lPCXoi2OVYOv"
      },
      "execution_count": null,
      "outputs": []
    },
    {
      "cell_type": "markdown",
      "source": [
        "8. String to Integer (atoi)"
      ],
      "metadata": {
        "id": "Tyq_PGAmVcKN"
      }
    },
    {
      "cell_type": "code",
      "source": [
        "class Solution:\n",
        "    def myAtoi(self, s: str) -> int:\n",
        "        s = s.strip()\n",
        "\n",
        "        if not s:\n",
        "            return 0\n",
        "\n",
        "        sign = 1\n",
        "        if s[0] == '-':\n",
        "            sign = -1\n",
        "            s = s[1:]\n",
        "        elif s[0] == '+':\n",
        "            s = s[1:]\n",
        "\n",
        "        result = 0\n",
        "        for char in s:\n",
        "            if not char.isdigit():\n",
        "                break\n",
        "            result = result * 10 + int(char)\n",
        "\n",
        "        INT_MAX = 2**31 - 1\n",
        "        INT_MIN = -2**31\n",
        "        result *= sign\n",
        "        if result > INT_MAX:\n",
        "            return INT_MAX\n",
        "        elif result < INT_MIN:\n",
        "            return INT_MIN\n",
        "\n",
        "        return result\n"
      ],
      "metadata": {
        "id": "zRhtl6BQVg-w"
      },
      "execution_count": null,
      "outputs": []
    },
    {
      "cell_type": "markdown",
      "source": [
        "9. Palindrome Number"
      ],
      "metadata": {
        "id": "mv9zLSQ7Vmq6"
      }
    },
    {
      "cell_type": "code",
      "source": [
        "class Solution:\n",
        "    def isPalindrome(self, x: int) -> bool:\n",
        "        if x < 0 or (x % 10 == 0 and x != 0):\n",
        "            return False\n",
        "\n",
        "        reversed_num = 0\n",
        "        while x > reversed_num:\n",
        "            reversed_num = reversed_num * 10 + x % 10\n",
        "            x //= 10\n",
        "\n",
        "        return x == reversed_num or x == reversed_num // 10\n"
      ],
      "metadata": {
        "id": "C5ZNMmoiVqTi"
      },
      "execution_count": null,
      "outputs": []
    },
    {
      "cell_type": "markdown",
      "source": [
        "10. Regular Expression Matching"
      ],
      "metadata": {
        "id": "0jOYo5aFVufI"
      }
    },
    {
      "cell_type": "code",
      "source": [
        "class Solution:\n",
        "    def isMatch(self, s: str, p: str) -> bool:\n",
        "        m, n = len(s), len(p)\n",
        "        dp = [[False] * (n + 1) for _ in range(m + 1)]\n",
        "\n",
        "        dp[0][0] = True\n",
        "\n",
        "        for j in range(1, n + 1):\n",
        "            if p[j - 1] == '*':\n",
        "                dp[0][j] = dp[0][j - 2]\n",
        "\n",
        "        for i in range(1, m + 1):\n",
        "            for j in range(1, n + 1):\n",
        "                if p[j - 1] == '*':\n",
        "                    dp[i][j] = dp[i][j - 2] or (dp[i - 1][j] and (s[i - 1] == p[j - 2] or p[j - 2] == '.'))\n",
        "                else:\n",
        "                    dp[i][j] = dp[i - 1][j - 1] and (s[i - 1] == p[j - 1] or p[j - 1] == '.')\n",
        "\n",
        "        return dp[m][n]\n"
      ],
      "metadata": {
        "id": "xDUzHiSwV0ky"
      },
      "execution_count": null,
      "outputs": []
    },
    {
      "cell_type": "markdown",
      "source": [
        "11. Container With Most Water"
      ],
      "metadata": {
        "id": "abInUC9pV3r7"
      }
    },
    {
      "cell_type": "code",
      "source": [
        "class Solution:\n",
        "    def maxArea(self, height: List[int]) -> int:\n",
        "        max_area = 0\n",
        "        left, right = 0, len(height) - 1\n",
        "\n",
        "        while left < right:\n",
        "            area = min(height[left], height[right]) * (right - left)\n",
        "            max_area = max(max_area, area)\n",
        "\n",
        "            if height[left] < height[right]:\n",
        "                left += 1\n",
        "            else:\n",
        "                right -= 1\n",
        "\n",
        "        return max_area\n"
      ],
      "metadata": {
        "id": "3-hfFtCoV8FK"
      },
      "execution_count": null,
      "outputs": []
    },
    {
      "cell_type": "markdown",
      "source": [
        "12. Integer to Roman"
      ],
      "metadata": {
        "id": "c4FaBrWUV_1G"
      }
    },
    {
      "cell_type": "code",
      "source": [
        "class Solution:\n",
        "    def intToRoman(self, num: int) -> str:\n",
        "        roman_map = {\n",
        "            1000: \"M\",\n",
        "            900: \"CM\",\n",
        "            500: \"D\",\n",
        "            400: \"CD\",\n",
        "            100: \"C\",\n",
        "            90: \"XC\",\n",
        "            50: \"L\",\n",
        "            40: \"XL\",\n",
        "            10: \"X\",\n",
        "            9: \"IX\",\n",
        "            5: \"V\",\n",
        "            4: \"IV\",\n",
        "            1: \"I\"\n",
        "        }\n",
        "\n",
        "        result = \"\"\n",
        "\n",
        "        for value, symbol in roman_map.items():\n",
        "            while num >= value:\n",
        "                result += symbol\n",
        "                num -= value\n",
        "\n",
        "        return result\n"
      ],
      "metadata": {
        "id": "Ficb7j8iWDw3"
      },
      "execution_count": null,
      "outputs": []
    },
    {
      "cell_type": "markdown",
      "source": [
        "13. Longest Common Prefix"
      ],
      "metadata": {
        "id": "uwAS4KWLWHrh"
      }
    },
    {
      "cell_type": "code",
      "source": [
        "class Solution:\n",
        "    def longestCommonPrefix(self, strs: List[str]) -> str:\n",
        "        if not strs:\n",
        "            return \"\"\n",
        "\n",
        "        for i, char in enumerate(strs[0]):\n",
        "            for string in strs[1:]:\n",
        "                if i >= len(string) or string[i] != char:\n",
        "                    return strs[0][:i]\n",
        "\n",
        "        return strs[0]"
      ],
      "metadata": {
        "id": "Xs8Oiy7yWL1K"
      },
      "execution_count": null,
      "outputs": []
    },
    {
      "cell_type": "markdown",
      "source": [
        "14. 3Sum"
      ],
      "metadata": {
        "id": "EbVem1z4WOgT"
      }
    },
    {
      "cell_type": "code",
      "source": [
        "class Solution:\n",
        "    def threeSum(self, nums: List[int]) -> List[List[int]]:\n",
        "        nums.sort()\n",
        "        result = []\n",
        "\n",
        "        for i in range(len(nums) - 2):\n",
        "            if i > 0 and nums[i] == nums[i - 1]:\n",
        "                continue\n",
        "\n",
        "            left, right = i + 1, len(nums) - 1\n",
        "            while left < right:\n",
        "                total = nums[i] + nums[left] + nums[right]\n",
        "                if total < 0:\n",
        "                    left += 1\n",
        "                elif total > 0:\n",
        "                    right -= 1\n",
        "                else:\n",
        "                    result.append([nums[i], nums[left], nums[right]])\n",
        "                    while left < right and nums[left] == nums[left + 1]:\n",
        "                        left += 1\n",
        "                    while left < right and nums[right] == nums[right - 1]:\n",
        "                        right -= 1\n",
        "                    left += 1\n",
        "                    right -= 1\n",
        "\n",
        "        return result"
      ],
      "metadata": {
        "id": "viQZCGlFWU5n"
      },
      "execution_count": null,
      "outputs": []
    },
    {
      "cell_type": "markdown",
      "source": [
        "16. 3Sum Closest"
      ],
      "metadata": {
        "id": "PgR8qHyWWXWw"
      }
    },
    {
      "cell_type": "code",
      "source": [
        "class Solution:\n",
        "    def threeSumClosest(self, nums: List[int], target: int) -> int:\n",
        "        nums.sort()\n",
        "        closest_sum = float('inf')\n",
        "\n",
        "        for i in range(len(nums) - 2):\n",
        "            left, right = i + 1, len(nums) - 1\n",
        "            while left < right:\n",
        "                total = nums[i] + nums[left] + nums[right]\n",
        "                if abs(total - target) < abs(closest_sum - target):\n",
        "                    closest_sum = total\n",
        "\n",
        "                if total < target:\n",
        "                    left += 1\n",
        "                elif total > target:\n",
        "                    right -= 1\n",
        "                else:\n",
        "                    return target\n",
        "\n",
        "        return closest_sum"
      ],
      "metadata": {
        "id": "YZcC61U8WcBM"
      },
      "execution_count": null,
      "outputs": []
    },
    {
      "cell_type": "markdown",
      "source": [
        "17. Letter Combinations of a Phone Number"
      ],
      "metadata": {
        "id": "GaDHOlccWeLQ"
      }
    },
    {
      "cell_type": "code",
      "source": [
        "class Solution:\n",
        "    def letterCombinations(self, digits: str) -> List[str]:\n",
        "        if not digits:\n",
        "            return []\n",
        "\n",
        "        phone_map = {\n",
        "            '2': 'abc',\n",
        "            '3': 'def',\n",
        "            '4': 'ghi',\n",
        "            '5': 'jkl',\n",
        "            '6': 'mno',\n",
        "            '7': 'pqrs',\n",
        "            '8': 'tuv',\n",
        "            '9': 'wxyz'\n",
        "        }\n",
        "\n",
        "        def backtrack(index, path):\n",
        "            if len(path) == len(digits):\n",
        "                combinations.append(''.join(path))\n",
        "                return\n",
        "\n",
        "            for char in phone_map[digits[index]]:\n",
        "                path.append(char)\n",
        "                backtrack(index + 1, path)\n",
        "                path.pop()\n",
        "\n",
        "        combinations = []\n",
        "        backtrack(0, [])\n",
        "        return combinations"
      ],
      "metadata": {
        "id": "lRNm41ZhWkj3"
      },
      "execution_count": null,
      "outputs": []
    },
    {
      "cell_type": "markdown",
      "source": [
        "18. 4Sum"
      ],
      "metadata": {
        "id": "4qaSwtZBWn-J"
      }
    },
    {
      "cell_type": "code",
      "source": [
        "class Solution:\n",
        "    def fourSum(self, nums: List[int], target: int) -> List[List[int]]:\n",
        "        nums.sort()\n",
        "        result = []\n",
        "\n",
        "        for i in range(len(nums) - 3):\n",
        "            if i > 0 and nums[i] == nums[i - 1]:\n",
        "                continue\n",
        "\n",
        "            for j in range(i + 1, len(nums) - 2):\n",
        "                if j > i + 1 and nums[j] == nums[j - 1]:\n",
        "                    continue\n",
        "\n",
        "                left, right = j + 1, len(nums) - 1\n",
        "                while left < right:\n",
        "                    total = nums[i] + nums[j] + nums[left] + nums[right]\n",
        "                    if total < target:\n",
        "                        left += 1\n",
        "                    elif total > target:\n",
        "                        right -= 1\n",
        "                    else:\n",
        "                        result.append([nums[i], nums[j], nums[left], nums[right]])\n",
        "                        while left < right and nums[left] == nums[left + 1]:\n",
        "                            left += 1\n",
        "                        while left < right and nums[right] == nums[right - 1]:\n",
        "                            right -= 1\n",
        "                        left += 1\n",
        "                        right -= 1\n",
        "\n",
        "        return result"
      ],
      "metadata": {
        "id": "yObgTBnVWrJ4"
      },
      "execution_count": null,
      "outputs": []
    },
    {
      "cell_type": "markdown",
      "source": [
        "19.Remove Nth Node From End of List"
      ],
      "metadata": {
        "id": "RCV-oOGjWuED"
      }
    },
    {
      "cell_type": "code",
      "source": [
        "class Solution:\n",
        "    def removeNthFromEnd(self, head: ListNode, n: int) -> ListNode:\n",
        "        dummy = ListNode(0)\n",
        "        dummy.next = head\n",
        "\n",
        "        fast = slow = dummy\n",
        "\n",
        "        for _ in range(n):\n",
        "            fast = fast.next\n",
        "\n",
        "        while fast.next:\n",
        "            fast = fast.next\n",
        "            slow = slow.next\n",
        "\n",
        "        slow.next = slow.next.next\n",
        "\n",
        "        return dummy.next\n"
      ],
      "metadata": {
        "id": "Dsv1PeSXWz6A"
      },
      "execution_count": null,
      "outputs": []
    },
    {
      "cell_type": "markdown",
      "source": [
        "20. Valid Parenthese"
      ],
      "metadata": {
        "id": "09wM1FuuW3-i"
      }
    },
    {
      "cell_type": "code",
      "source": [
        "class Solution:\n",
        "    def isValid(self, s: str) -> bool:\n",
        "        stack = []\n",
        "        bracket_map = {')': '(', '}': '{', ']': '['}\n",
        "\n",
        "        for char in s:\n",
        "            if char in bracket_map.values():\n",
        "                stack.append(char)\n",
        "            elif char in bracket_map.keys():\n",
        "                if not stack or stack[-1] != bracket_map[char]:\n",
        "                    return False\n",
        "                stack.pop()\n",
        "            else:\n",
        "                return False\n",
        "\n",
        "        return len(stack) == 0"
      ],
      "metadata": {
        "id": "XqQjb9huW8qQ"
      },
      "execution_count": null,
      "outputs": []
    },
    {
      "cell_type": "markdown",
      "source": [
        "24. Swap Nodes in Pairs"
      ],
      "metadata": {
        "id": "71NJ63XBW_vv"
      }
    },
    {
      "cell_type": "code",
      "source": [
        "class ListNode:\n",
        "    def __init__(self, val=0, next=None):\n",
        "        self.val = val\n",
        "        self.next = next\n",
        "\n",
        "class Solution:\n",
        "    def swapPairs(self, head: ListNode) -> ListNode:\n",
        "        dummy = ListNode(0)\n",
        "        dummy.next = head\n",
        "        prev = dummy\n",
        "\n",
        "        while head and head.next:\n",
        "            first_node = head\n",
        "            second_node = head.next\n",
        "\n",
        "            prev.next = second_node\n",
        "            first_node.next = second_node.next\n",
        "            second_node.next = first_node\n",
        "\n",
        "            prev = first_node\n",
        "            head = first_node.next\n",
        "\n",
        "        return dummy.next"
      ],
      "metadata": {
        "id": "1TCr0VGAXEfs"
      },
      "execution_count": null,
      "outputs": []
    },
    {
      "cell_type": "markdown",
      "source": [
        "29. Divide Two Integers"
      ],
      "metadata": {
        "id": "5FpPWomTXFso"
      }
    },
    {
      "cell_type": "code",
      "source": [
        "class Solution:\n",
        "    def divide(self, dividend: int, divisor: int) -> int:\n",
        "        if divisor == 0:\n",
        "            return 2**31 - 1\n",
        "        if dividend == 0:\n",
        "            return 0\n",
        "\n",
        "        negative = (dividend < 0) != (divisor < 0)\n",
        "\n",
        "        dividend = abs(dividend)\n",
        "        divisor = abs(divisor)\n",
        "\n",
        "        quotient = 0\n",
        "        while dividend >= divisor:\n",
        "            temp, i = divisor, 1\n",
        "            while dividend >= temp:\n",
        "                dividend -= temp\n",
        "                quotient += i\n",
        "                temp <<= 1\n",
        "                i <<= 1\n",
        "\n",
        "        if negative:\n",
        "            quotient = -quotient\n",
        "\n",
        "        if quotient < -2**31:\n",
        "            return -2**31\n",
        "        elif quotient > 2**31 - 1:\n",
        "            return 2**31 - 1\n",
        "        else:\n",
        "            return quotient\n"
      ],
      "metadata": {
        "id": "I8Pk3GveXJPN"
      },
      "execution_count": null,
      "outputs": []
    },
    {
      "cell_type": "markdown",
      "source": [
        "31. Next Permutation"
      ],
      "metadata": {
        "id": "5dxFoRTdXTJA"
      }
    },
    {
      "cell_type": "code",
      "source": [
        "class Solution:\n",
        "    def nextPermutation(self, nums: List[int]) -> None:\n",
        "        \"\"\"\n",
        "        Do not return anything, modify nums in-place instead.\n",
        "        \"\"\"\n",
        "\n",
        "        n = len(nums)\n",
        "\n",
        "        i = n - 2\n",
        "        while i >= 0 and nums[i] >= nums[i + 1]:\n",
        "            i -= 1\n",
        "\n",
        "        if i == -1:\n",
        "            nums.sort()\n",
        "            return\n",
        "\n",
        "        j = n - 1\n",
        "        while nums[i] >= nums[j]:\n",
        "            j -= 1\n",
        "\n",
        "        nums[i], nums[j] = nums[j], nums[i]\n",
        "\n",
        "        nums[i + 1:] = sorted(nums[i + 1:])\n"
      ],
      "metadata": {
        "id": "_X8pcV81XWJL"
      },
      "execution_count": null,
      "outputs": []
    },
    {
      "cell_type": "markdown",
      "source": [
        "33. Search in Rotated Sorted Array"
      ],
      "metadata": {
        "id": "1a6iop9fXfmE"
      }
    },
    {
      "cell_type": "code",
      "source": [
        "class Solution:\n",
        "    def search(self, nums: List[int], target: int) -> int:\n",
        "        left, right = 0, len(nums) - 1\n",
        "\n",
        "        while left <= right:\n",
        "            mid = (left + right) // 2\n",
        "            if nums[mid] == target:\n",
        "                return mid\n",
        "\n",
        "            if nums[left] <= nums[mid]:\n",
        "\n",
        "                if nums[left] <= target < nums[mid]:\n",
        "                    right = mid - 1\n",
        "                else:\n",
        "                    left = mid + 1\n",
        "\n",
        "            else:\n",
        "\n",
        "                if nums[mid] < target <= nums[right]:\n",
        "                    left = mid + 1\n",
        "                else:\n",
        "                    right = mid - 1\n",
        "\n",
        "        return -1\n"
      ],
      "metadata": {
        "id": "fU8nHjUhXlv8"
      },
      "execution_count": null,
      "outputs": []
    },
    {
      "cell_type": "markdown",
      "source": [
        "36. Valid Sudoku"
      ],
      "metadata": {
        "id": "_PDPrdvUXyo7"
      }
    },
    {
      "cell_type": "code",
      "source": [
        "class Solution:\n",
        "    def isValidSudoku(self, board: List[List[str]]) -> bool:\n",
        "\n",
        "        for i in range(9):\n",
        "            row_set = set()\n",
        "            col_set = set()\n",
        "            grid_set = set()\n",
        "            for j in range(9):\n",
        "\n",
        "                if board[i][j] != '.':\n",
        "                    if board[i][j] in row_set:\n",
        "                        return False\n",
        "                    row_set.add(board[i][j])\n",
        "\n",
        "                if board[j][i] != '.':\n",
        "                    if board[j][i] in col_set:\n",
        "                        return False\n",
        "                    col_set.add(board[j][i])\n",
        "\n",
        "                row_index = 3 * (i // 3)\n",
        "                col_index = 3 * (i % 3)\n",
        "                if board[row_index + j // 3][col_index + j % 3] != '.':\n",
        "                    if board[row_index + j // 3][col_index + j % 3] in grid_set:\n",
        "                        return False\n",
        "                    grid_set.add(board[row_index + j // 3][col_index + j % 3])\n",
        "        return True\n"
      ],
      "metadata": {
        "id": "4m8t6tfHYb4V"
      },
      "execution_count": null,
      "outputs": []
    },
    {
      "cell_type": "markdown",
      "source": [
        "37. Sudoku Solver"
      ],
      "metadata": {
        "id": "VOP0aDGzYiOq"
      }
    },
    {
      "cell_type": "code",
      "source": [
        "class Solution:\n",
        "    def solveSudoku(self, board: List[List[str]]) -> None:\n",
        "\n",
        "        def is_valid(row, col, num):\n",
        "\n",
        "            for i in range(9):\n",
        "                if board[i][col] == num or board[row][i] == num:\n",
        "                    return False\n",
        "\n",
        "            start_row, start_col = 3 * (row // 3), 3 * (col // 3)\n",
        "            for i in range(3):\n",
        "                for j in range(3):\n",
        "                    if board[start_row + i][start_col + j] == num:\n",
        "                        return False\n",
        "            return True\n",
        "\n",
        "        def backtrack():\n",
        "            for i in range(9):\n",
        "                for j in range(9):\n",
        "                    if board[i][j] == '.':\n",
        "                        for num in map(str, range(1, 10)):\n",
        "                            if is_valid(i, j, num):\n",
        "                                board[i][j] = num\n",
        "                                if backtrack():\n",
        "                                    return True\n",
        "                                board[i][j] = '.'\n",
        "                        return False\n",
        "            return True\n",
        "\n",
        "        backtrack()\n"
      ],
      "metadata": {
        "id": "zRpvnon6YpX4"
      },
      "execution_count": null,
      "outputs": []
    },
    {
      "cell_type": "markdown",
      "source": [
        "39. Combination Sum"
      ],
      "metadata": {
        "id": "LO4GjYfwYzo1"
      }
    },
    {
      "cell_type": "code",
      "source": [
        "class Solution:\n",
        "    def combinationSum(self, candidates: List[int], target: int) -> List[List[int]]:\n",
        "        def backtrack(start, path, target):\n",
        "            if target < 0:\n",
        "                return\n",
        "            if target == 0:\n",
        "                result.append(path)\n",
        "                return\n",
        "            for i in range(start, len(candidates)):\n",
        "                backtrack(i, path + [candidates[i]], target - candidates[i])\n",
        "\n",
        "        result = []\n",
        "        backtrack(0, [], target)\n",
        "        return result"
      ],
      "metadata": {
        "id": "YtmNBp6vY28W"
      },
      "execution_count": null,
      "outputs": []
    },
    {
      "cell_type": "markdown",
      "source": [
        "58. Length of Last Word"
      ],
      "metadata": {
        "id": "iASHbVl_Y48A"
      }
    },
    {
      "cell_type": "code",
      "source": [
        "class Solution:\n",
        "    def lengthOfLastWord(self, s: str) -> int:\n",
        "\n",
        "        words = s.rstrip().split(' ')\n",
        "\n",
        "        return len(words[-1])"
      ],
      "metadata": {
        "id": "WKJtfy4CY9_6"
      },
      "execution_count": null,
      "outputs": []
    },
    {
      "cell_type": "markdown",
      "source": [
        "66. Plus One"
      ],
      "metadata": {
        "id": "-L-i11g5ZDPO"
      }
    },
    {
      "cell_type": "code",
      "source": [
        "class Solution:\n",
        "    def plusOne(self, digits: [int]) -> [int]:\n",
        "        n = len(digits)\n",
        "\n",
        "        for i in range(n - 1, -1, -1):\n",
        "            if digits[i] < 9:\n",
        "                digits[i] += 1\n",
        "                return digits\n",
        "            digits[i] = 0\n",
        "\n",
        "        return [1] + digits"
      ],
      "metadata": {
        "id": "iayiBw_vZG94"
      },
      "execution_count": null,
      "outputs": []
    },
    {
      "cell_type": "markdown",
      "source": [
        "67. Add Binary"
      ],
      "metadata": {
        "id": "yVYxHffXZJ2g"
      }
    },
    {
      "cell_type": "code",
      "source": [
        "class Solution:\n",
        "    def addBinary(self, a: str, b: str) -> str:\n",
        "        sum = int(a, 2) + int(b, 2)\n",
        "        return bin(sum)[2:]"
      ],
      "metadata": {
        "id": "U8mkpVmbZNYA"
      },
      "execution_count": null,
      "outputs": []
    },
    {
      "cell_type": "markdown",
      "source": [
        "69. Sqrt(x)"
      ],
      "metadata": {
        "id": "9c0f0-YQZTXA"
      }
    },
    {
      "cell_type": "code",
      "source": [
        "class Solution:\n",
        "    def mySqrt(self, x: int) -> int:\n",
        "        if x < 2:\n",
        "            return x\n",
        "\n",
        "        left, right = 2, x // 2\n",
        "\n",
        "        while left <= right:\n",
        "            mid = (left + right) // 2\n",
        "            num = mid * mid\n",
        "\n",
        "            if num == x:\n",
        "                return mid\n",
        "            elif num < x:\n",
        "                left = mid + 1\n",
        "            else:\n",
        "                right = mid - 1\n",
        "\n",
        "        return right"
      ],
      "metadata": {
        "id": "zDyQM8toZX4S"
      },
      "execution_count": null,
      "outputs": []
    },
    {
      "cell_type": "markdown",
      "source": [
        "70. Climbing Stairs"
      ],
      "metadata": {
        "id": "SkxHRzd-ZbbH"
      }
    },
    {
      "cell_type": "code",
      "source": [
        "class Solution:\n",
        "    def climbStairs(self, n: int) -> int:\n",
        "        if n <= 2:\n",
        "            return n\n",
        "\n",
        "        dp = [0] * (n + 1)\n",
        "        dp[1] = 1\n",
        "        dp[2] = 2\n",
        "\n",
        "        for i in range(3, n + 1):\n",
        "            dp[i] = dp[i - 1] + dp[i - 2]\n",
        "\n",
        "        return dp[n]"
      ],
      "metadata": {
        "id": "-SAan4eZZf3r"
      },
      "execution_count": null,
      "outputs": []
    },
    {
      "cell_type": "markdown",
      "source": [
        "83. Remove Duplicates from Sorted List"
      ],
      "metadata": {
        "id": "22llUfxuZhh-"
      }
    },
    {
      "cell_type": "code",
      "source": [
        "class ListNode:\n",
        "    def __init__(self, val=0, next=None):\n",
        "        self.val = val\n",
        "        self.next = next\n",
        "\n",
        "class Solution:\n",
        "    def deleteDuplicates(self, head: ListNode) -> ListNode:\n",
        "        current = head\n",
        "\n",
        "        while current and current.next:\n",
        "            if current.val == current.next.val:\n",
        "                current.next = current.next.next\n",
        "            else:\n",
        "                current = current.next\n",
        "\n",
        "        return head"
      ],
      "metadata": {
        "id": "J3fCobPKZqiu"
      },
      "execution_count": null,
      "outputs": []
    },
    {
      "cell_type": "markdown",
      "source": [
        "88. Merge Sorted Array"
      ],
      "metadata": {
        "id": "GfmovvsNZsFT"
      }
    },
    {
      "cell_type": "code",
      "source": [
        "class Solution:\n",
        "    def merge(self, nums1: [int], m: int, nums2: [int], n: int) -> None:\n",
        "\n",
        "        p1, p2 = m - 1, n - 1\n",
        "        p = m + n - 1\n",
        "\n",
        "        while p1 >= 0 and p2 >= 0:\n",
        "            if nums1[p1] > nums2[p2]:\n",
        "                nums1[p] = nums1[p1]\n",
        "                p1 -= 1\n",
        "            else:\n",
        "                nums1[p] = nums2[p2]\n",
        "                p2 -= 1\n",
        "            p -= 1\n",
        "\n",
        "        nums1[:p2 + 1] = nums2[:p2 + 1]"
      ],
      "metadata": {
        "id": "LZl-dzeYZ3tt"
      },
      "execution_count": null,
      "outputs": []
    },
    {
      "cell_type": "markdown",
      "source": [
        "94. Binary Tree Inorder Traversal"
      ],
      "metadata": {
        "id": "44jIIGEVZ7jk"
      }
    },
    {
      "cell_type": "code",
      "source": [
        "class TreeNode:\n",
        "    def __init__(self, val=0, left=None, right=None):\n",
        "        self.val = val\n",
        "        self.left = left\n",
        "        self.right = right\n",
        "\n",
        "class Solution:\n",
        "    def inorderTraversal(self, root: TreeNode) -> [int]:\n",
        "        def inorder(node):\n",
        "            if not node:\n",
        "                return []\n",
        "            return inorder(node.left) + [node.val] + inorder(node.right)\n",
        "\n",
        "        return inorder(root)"
      ],
      "metadata": {
        "id": "MsuvExbcaAYY"
      },
      "execution_count": null,
      "outputs": []
    },
    {
      "cell_type": "markdown",
      "source": [
        "100. Same Tree"
      ],
      "metadata": {
        "id": "051oDEC9aDPd"
      }
    },
    {
      "cell_type": "code",
      "source": [
        "class TreeNode:\n",
        "    def __init__(self, val=0, left=None, right=None):\n",
        "        self.val = val\n",
        "        self.left = left\n",
        "        self.right = right\n",
        "\n",
        "class Solution:\n",
        "    def isSameTree(self, p, q):\n",
        "        if not p and not q:\n",
        "            return True\n",
        "        if not p or not q:\n",
        "            return False\n",
        "        if p.val != q.val:\n",
        "            return False\n",
        "        return self.isSameTree(p.left, q.left) and self.isSameTree(p.right, q.right)"
      ],
      "metadata": {
        "id": "CFBg3F4XaGVl"
      },
      "execution_count": null,
      "outputs": []
    },
    {
      "cell_type": "markdown",
      "source": [
        "101. Symmetric Tree"
      ],
      "metadata": {
        "id": "hPVP-c2haJXe"
      }
    },
    {
      "cell_type": "code",
      "source": [
        "class Solution(object):\n",
        "    def isSymmetric(self, root):\n",
        "        \"\"\"\n",
        "        :type root: TreeNode\n",
        "        :rtype: bool\n",
        "        \"\"\"\n",
        "        def isSubtreeSymmetric(left, right):\n",
        "            if not left and not right:\n",
        "                return True\n",
        "            elif not left or not right:\n",
        "                return False\n",
        "            else:\n",
        "                return left.val == right.val and isSubtreeSymmetric(left.left, right.right) and isSubtreeSymmetric(left.right, right.left)\n",
        "\n",
        "        return isSubtreeSymmetric(root, root)"
      ],
      "metadata": {
        "id": "J_zMlJSpaNOu"
      },
      "execution_count": null,
      "outputs": []
    },
    {
      "cell_type": "markdown",
      "source": [
        "104. Maximum Depth of Binary Tree"
      ],
      "metadata": {
        "id": "TrL-LbWBaOyH"
      }
    },
    {
      "cell_type": "code",
      "source": [
        "class TreeNode:\n",
        "    def __init__(self, val=0, left=None, right=None):\n",
        "        self.val = val\n",
        "        self.left = left\n",
        "        self.right = right\n",
        "\n",
        "class Solution:\n",
        "    def maxDepth(self, root: TreeNode) -> int:\n",
        "        if root is None:\n",
        "            return 0\n",
        "        left_depth = self.maxDepth(root.left)\n",
        "        right_depth = self.maxDepth(root.right)\n",
        "        return max(left_depth, right_depth) + 1"
      ],
      "metadata": {
        "id": "r2y21Bd3aVtI"
      },
      "execution_count": null,
      "outputs": []
    },
    {
      "cell_type": "markdown",
      "source": [
        "108. Convert Sorted Array to Binary Search Tree"
      ],
      "metadata": {
        "id": "osytzPZeaVHv"
      }
    },
    {
      "cell_type": "code",
      "source": [
        "class TreeNode:\n",
        "    def __init__(self, val=0, left=None, right=None):\n",
        "        self.val = val\n",
        "        self.left = left\n",
        "        self.right = right\n",
        "\n",
        "class Solution:\n",
        "    def sortedArrayToBST(self, nums: List[int]) -> TreeNode:\n",
        "        if not nums:\n",
        "            return None\n",
        "\n",
        "        mid = len(nums) // 2\n",
        "        root = TreeNode(nums[mid])\n",
        "\n",
        "        root.left = self.sortedArrayToBST(nums[:mid])\n",
        "        root.right = self.sortedArrayToBST(nums[mid + 1:])\n",
        "\n",
        "        return root\n"
      ],
      "metadata": {
        "id": "grxtUaB3afPH"
      },
      "execution_count": null,
      "outputs": []
    },
    {
      "cell_type": "markdown",
      "source": [
        "110. Balanced Binary Tree"
      ],
      "metadata": {
        "id": "TnXKyjBRaiN0"
      }
    },
    {
      "cell_type": "code",
      "source": [
        "class TreeNode:\n",
        "    def __init__(self, val=0, left=None, right=None):\n",
        "        self.val = val\n",
        "        self.left = left\n",
        "        self.right = right\n",
        "\n",
        "class Solution:\n",
        "    def isBalanced(self, root: TreeNode) -> bool:\n",
        "        def check_height(node: TreeNode) -> int:\n",
        "            if node is None:\n",
        "                return 0\n",
        "\n",
        "            left_height = check_height(node.left)\n",
        "            if left_height == -1:\n",
        "                return -1\n",
        "\n",
        "            right_height = check_height(node.right)\n",
        "            if right_height == -1:\n",
        "                return -1\n",
        "\n",
        "            if abs(left_height - right_height) > 1:\n",
        "                return -1\n",
        "\n",
        "            return max(left_height, right_height) + 1\n",
        "\n",
        "        return check_height(root) != -1"
      ],
      "metadata": {
        "id": "xGVQmomtahTq"
      },
      "execution_count": null,
      "outputs": []
    },
    {
      "cell_type": "markdown",
      "source": [
        "111. Minimum Depth of Binary Tree"
      ],
      "metadata": {
        "id": "9-ScykGwcjxt"
      }
    },
    {
      "cell_type": "code",
      "source": [
        "from collections import deque\n",
        "\n",
        "class TreeNode:\n",
        "    def __init__(self, val=0, left=None, right=None):\n",
        "        self.val = val\n",
        "        self.left = left\n",
        "        self.right = right\n",
        "\n",
        "class Solution:\n",
        "    def minDepth(self, root: TreeNode) -> int:\n",
        "        if not root:\n",
        "            return 0\n",
        "\n",
        "        queue = deque([(root, 1)])  # (node, depth)\n",
        "\n",
        "        while queue:\n",
        "            node, depth = queue.popleft()\n",
        "\n",
        "            if not node.left and not node.right:\n",
        "                return depth\n",
        "\n",
        "            if node.left:\n",
        "                queue.append((node.left, depth + 1))\n",
        "            if node.right:\n",
        "                queue.append((node.right, depth + 1))"
      ],
      "metadata": {
        "id": "3mQ0qybVcoqI"
      },
      "execution_count": null,
      "outputs": []
    },
    {
      "cell_type": "markdown",
      "source": [
        "112. Path Sum"
      ],
      "metadata": {
        "id": "wQSzemedcvJ-"
      }
    },
    {
      "cell_type": "code",
      "source": [
        "class TreeNode:\n",
        "    def __init__(self, val=0, left=None, right=None):\n",
        "        self.val = val\n",
        "        self.left = left\n",
        "        self.right = right\n",
        "\n",
        "class Solution:\n",
        "    def hasPathSum(self, root: TreeNode, sum: int) -> bool:\n",
        "        if not root:\n",
        "            return False\n",
        "\n",
        "        if not root.left and not root.right:\n",
        "            return root.val == sum\n",
        "\n",
        "        sum -= root.val\n",
        "        return self.hasPathSum(root.left, sum) or self.hasPathSum(root.right, sum)\n"
      ],
      "metadata": {
        "id": "OP5rnbHHcyoJ"
      },
      "execution_count": null,
      "outputs": []
    },
    {
      "cell_type": "markdown",
      "source": [
        "118. Pascal's Triangle"
      ],
      "metadata": {
        "id": "HZ_065J6c3KN"
      }
    },
    {
      "cell_type": "code",
      "source": [
        "class Solution:\n",
        "    def generate(self, numRows: int) -> List[List[int]]:\n",
        "        if numRows == 0:\n",
        "            return []\n",
        "\n",
        "        triangle = [[1]]\n",
        "\n",
        "        for i in range(1, numRows):\n",
        "            row = [1]\n",
        "            for j in range(1, i):\n",
        "                row.append(triangle[i - 1][j - 1] + triangle[i - 1][j])\n",
        "            row.append(1)\n",
        "            triangle.append(row)\n",
        "\n",
        "        return triangle\n"
      ],
      "metadata": {
        "id": "X11UST8gc8VH"
      },
      "execution_count": null,
      "outputs": []
    },
    {
      "cell_type": "markdown",
      "source": [
        "119. Pascal's Triangle II"
      ],
      "metadata": {
        "id": "JF7Xek8xdB2z"
      }
    },
    {
      "cell_type": "code",
      "source": [
        "class Solution:\n",
        "    def getRow(self, rowIndex: int) -> List[int]:\n",
        "        row = [1] * (rowIndex + 1)\n",
        "\n",
        "        for i in range(1, rowIndex):\n",
        "            for j in range(i, 0, -1):\n",
        "                row[j] += row[j - 1]\n",
        "\n",
        "        return row"
      ],
      "metadata": {
        "id": "gBPCRsIddHmR"
      },
      "execution_count": null,
      "outputs": []
    },
    {
      "cell_type": "markdown",
      "source": [
        "121. Best Time to Buy and Sell Stock"
      ],
      "metadata": {
        "id": "krMRbT57dJo9"
      }
    },
    {
      "cell_type": "code",
      "source": [
        "class Solution:\n",
        "    def maxProfit(self, prices: List[int]) -> int:\n",
        "        if not prices:\n",
        "            return 0\n",
        "\n",
        "        min_price = float('inf')\n",
        "        max_profit = 0\n",
        "\n",
        "        for price in prices:\n",
        "            if price < min_price:\n",
        "                min_price = price\n",
        "            elif price - min_price > max_profit:\n",
        "                max_profit = price - min_price\n",
        "\n",
        "        return max_profit"
      ],
      "metadata": {
        "id": "ZfRbd3MkdOWO"
      },
      "execution_count": null,
      "outputs": []
    },
    {
      "cell_type": "markdown",
      "source": [
        "125. Valid Palindrome"
      ],
      "metadata": {
        "id": "vy0s-nHRdQZG"
      }
    },
    {
      "cell_type": "code",
      "source": [
        "class Solution:\n",
        "    def isPalindrome(self, s: str) -> bool:\n",
        "        filtered_chars = [char.lower() for char in s if char.isalnum()]\n",
        "        return filtered_chars == filtered_chars[::-1]\n"
      ],
      "metadata": {
        "id": "tkruRyugdUg1"
      },
      "execution_count": null,
      "outputs": []
    },
    {
      "cell_type": "markdown",
      "source": [
        "136. Single Number"
      ],
      "metadata": {
        "id": "z9eHz7Pnda6t"
      }
    },
    {
      "cell_type": "code",
      "source": [
        "from typing import List\n",
        "\n",
        "class Solution:\n",
        "    def singleNumber(self, nums: List[int]) -> int:\n",
        "        result = 0\n",
        "        for num in nums:\n",
        "            result ^= num\n",
        "        return result"
      ],
      "metadata": {
        "id": "5xes6czldfKi"
      },
      "execution_count": null,
      "outputs": []
    },
    {
      "cell_type": "markdown",
      "source": [
        "141. Linked List Cycle"
      ],
      "metadata": {
        "id": "VXPyPuxCdhzl"
      }
    },
    {
      "cell_type": "code",
      "source": [
        "class ListNode:\n",
        "    def __init__(self, val=0, next=None):\n",
        "        self.val = val\n",
        "        self.next = next\n",
        "\n",
        "class Solution:\n",
        "    def hasCycle(self, head: ListNode) -> bool:\n",
        "        if not head or not head.next:\n",
        "            return False\n",
        "\n",
        "        slow = head\n",
        "        fast = head.next\n",
        "\n",
        "        while slow != fast:\n",
        "            if not fast or not fast.next:\n",
        "                return False\n",
        "            slow = slow.next\n",
        "            fast = fast.next.next\n",
        "\n",
        "        return True"
      ],
      "metadata": {
        "id": "4PS_094Adl2u"
      },
      "execution_count": null,
      "outputs": []
    },
    {
      "cell_type": "markdown",
      "source": [
        "144. Binary Tree Preorder Traversal"
      ],
      "metadata": {
        "id": "udSp2rVKdpNT"
      }
    },
    {
      "cell_type": "code",
      "source": [
        "class TreeNode:\n",
        "    def __init__(self, val=0, left=None, right=None):\n",
        "        self.val = val\n",
        "        self.left = left\n",
        "        self.right = right\n",
        "\n",
        "class Solution:\n",
        "    def preorderTraversal(self, root: TreeNode) -> List[int]:\n",
        "        if not root:\n",
        "            return []\n",
        "\n",
        "        stack = [root]\n",
        "        result = []\n",
        "\n",
        "        while stack:\n",
        "            node = stack.pop()\n",
        "            result.append(node.val)\n",
        "\n",
        "            if node.right:\n",
        "                stack.append(node.right)\n",
        "            if node.left:\n",
        "                stack.append(node.left)\n",
        "\n",
        "        return result"
      ],
      "metadata": {
        "id": "T5sMGS2bduDU"
      },
      "execution_count": null,
      "outputs": []
    },
    {
      "cell_type": "markdown",
      "source": [
        "145. Binary Tree Postorder Traversal"
      ],
      "metadata": {
        "id": "nrcEWXKGdxVM"
      }
    },
    {
      "cell_type": "code",
      "source": [
        "class TreeNode:\n",
        "    def __init__(self, val=0, left=None, right=None):\n",
        "        self.val = val\n",
        "        self.left = left\n",
        "        self.right = right\n",
        "\n",
        "class Solution:\n",
        "    def postorderTraversal(self, root: TreeNode) -> List[int]:\n",
        "        if not root:\n",
        "            return []\n",
        "\n",
        "        stack = [root]\n",
        "        result = []\n",
        "\n",
        "        while stack:\n",
        "            node = stack.pop()\n",
        "            result.append(node.val)\n",
        "\n",
        "            if node.left:\n",
        "                stack.append(node.left)\n",
        "            if node.right:\n",
        "                stack.append(node.right)\n",
        "\n",
        "        return result[::-1]"
      ],
      "metadata": {
        "id": "tObiLmZcd1s0"
      },
      "execution_count": null,
      "outputs": []
    },
    {
      "cell_type": "markdown",
      "source": [
        "160. Intersection of Two Linked Lists"
      ],
      "metadata": {
        "id": "8LJiFXkud5H5"
      }
    },
    {
      "cell_type": "code",
      "source": [
        "class ListNode:\n",
        "    def __init__(self, val=0, next=None):\n",
        "        self.val = val\n",
        "        self.next = next\n",
        "\n",
        "class Solution:\n",
        "    def getIntersectionNode(self, headA: ListNode, headB: ListNode) -> ListNode:\n",
        "        lenA = self.getLength(headA)\n",
        "        lenB = self.getLength(headB)\n",
        "\n",
        "        while lenA > lenB:\n",
        "            headA = headA.next\n",
        "            lenA -= 1\n",
        "        while lenB > lenA:\n",
        "            headB = headB.next\n",
        "            lenB -= 1\n",
        "\n",
        "        while headA != headB:\n",
        "            headA = headA.next\n",
        "            headB = headB.next\n",
        "\n",
        "        return headA\n",
        "\n",
        "    def getLength(self, head: ListNode) -> int:\n",
        "        length = 0\n",
        "        while head:\n",
        "            length += 1\n",
        "            head = head.next\n",
        "        return length"
      ],
      "metadata": {
        "id": "SlbfGb2DeBBq"
      },
      "execution_count": null,
      "outputs": []
    },
    {
      "cell_type": "markdown",
      "source": [
        "168. Excel Sheet Column Title"
      ],
      "metadata": {
        "id": "__1HC8lmeF6W"
      }
    },
    {
      "cell_type": "code",
      "source": [
        "class Solution:\n",
        "    def convertToTitle(self, columnNumber: int) -> str:\n",
        "        result = []\n",
        "        while columnNumber > 0:\n",
        "            columnNumber -= 1\n",
        "            result.append(chr(columnNumber % 26 + ord('A')))\n",
        "            columnNumber //= 26\n",
        "        return ''.join(reversed(result))"
      ],
      "metadata": {
        "id": "7raQyD2XeLSL"
      },
      "execution_count": null,
      "outputs": []
    },
    {
      "cell_type": "markdown",
      "source": [
        "169. Majority Element"
      ],
      "metadata": {
        "id": "SU7z8NSIePKF"
      }
    },
    {
      "cell_type": "code",
      "source": [
        "from typing import List\n",
        "\n",
        "class Solution:\n",
        "    def majorityElement(self, nums: List[int]) -> int:\n",
        "        count = 0\n",
        "        candidate = None\n",
        "\n",
        "        for num in nums:\n",
        "            if count == 0:\n",
        "                candidate = num\n",
        "            count += (1 if num == candidate else -1)\n",
        "\n",
        "        return candidate"
      ],
      "metadata": {
        "id": "tZ7PFb9veTrw"
      },
      "execution_count": null,
      "outputs": []
    },
    {
      "cell_type": "markdown",
      "source": [
        "171. Excel Sheet Column Number"
      ],
      "metadata": {
        "id": "YQJcNCrseVKh"
      }
    },
    {
      "cell_type": "code",
      "source": [
        "class Solution:\n",
        "    def titleToNumber(self, columnTitle: str) -> int:\n",
        "        result = 0\n",
        "        for char in columnTitle:\n",
        "            result = result * 26 + (ord(char) - ord('A') + 1)\n",
        "        return result"
      ],
      "metadata": {
        "id": "T4m7c2fDeaW5"
      },
      "execution_count": null,
      "outputs": []
    },
    {
      "cell_type": "markdown",
      "source": [
        "175. Combine Two Tables"
      ],
      "metadata": {
        "id": "zdkumfn1ecRZ"
      }
    },
    {
      "cell_type": "code",
      "source": [
        "SELECT p.FirstName, p.LastName, a.City, a.State\n",
        "FROM Person p\n",
        "LEFT JOIN Address a ON p.PersonId = a.PersonId;"
      ],
      "metadata": {
        "id": "jxmKXzqZegX2"
      },
      "execution_count": null,
      "outputs": []
    },
    {
      "cell_type": "markdown",
      "source": [
        "181. Employees Earning More Than Their Managers"
      ],
      "metadata": {
        "id": "nN43YT3UeiQG"
      }
    },
    {
      "cell_type": "code",
      "source": [
        "SELECT e1.Name AS Employee\n",
        "FROM Employee e1\n",
        "JOIN Employee e2 ON e1.ManagerId = e2.Id\n",
        "WHERE e1.Salary > e2.Salary;"
      ],
      "metadata": {
        "id": "aLfjsWxOesZC"
      },
      "execution_count": null,
      "outputs": []
    },
    {
      "cell_type": "markdown",
      "source": [
        "182. Duplicate Emails"
      ],
      "metadata": {
        "id": "c7U3pdU0etZo"
      }
    },
    {
      "cell_type": "code",
      "source": [
        "SELECT Email\n",
        "FROM Person\n",
        "GROUP BY Email\n",
        "HAVING COUNT(*) > 1;"
      ],
      "metadata": {
        "id": "KGz0_NruexV6"
      },
      "execution_count": null,
      "outputs": []
    },
    {
      "cell_type": "markdown",
      "source": [
        "190. Reverse Bits"
      ],
      "metadata": {
        "id": "kIcPeaRdezSs"
      }
    },
    {
      "cell_type": "code",
      "source": [
        "class Solution:\n",
        "    def reverseBits(self, n: int) -> int:\n",
        "        result = 0\n",
        "        for i in range(32):\n",
        "            result = (result << 1) | (n & 1)\n",
        "            n >>= 1\n",
        "        return result"
      ],
      "metadata": {
        "id": "xMisB613e3UA"
      },
      "execution_count": null,
      "outputs": []
    },
    {
      "cell_type": "markdown",
      "source": [
        "191. Number of 1 Bits"
      ],
      "metadata": {
        "id": "3HOeDUPSe7n9"
      }
    },
    {
      "cell_type": "code",
      "source": [
        "class Solution:\n",
        "    def hammingWeight(self, n: int) -> int:\n",
        "        count = 0\n",
        "        while n:\n",
        "            count += n & 1\n",
        "            n >>= 1\n",
        "        return count"
      ],
      "metadata": {
        "id": "QE8ZIXcsfAmu"
      },
      "execution_count": null,
      "outputs": []
    },
    {
      "cell_type": "markdown",
      "source": [
        "193. Valid Phone Numbers"
      ],
      "metadata": {
        "id": "2R6VZHI1fCM3"
      }
    },
    {
      "cell_type": "code",
      "source": [
        "grep -E '^(\\([0-9]{3}\\) [0-9]{3}-[0-9]{4}|^[0-9]{3}-[0-9]{3}-[0-9]{4})$' file.txt\n"
      ],
      "metadata": {
        "id": "vOKf_HSGfGtP"
      },
      "execution_count": null,
      "outputs": []
    },
    {
      "cell_type": "markdown",
      "source": [
        "195. Tenth Line"
      ],
      "metadata": {
        "id": "IRRH2wW2fPQs"
      }
    },
    {
      "cell_type": "code",
      "source": [
        "sed -n '10p' file.txt"
      ],
      "metadata": {
        "id": "voI7XxvkfSgN"
      },
      "execution_count": null,
      "outputs": []
    },
    {
      "cell_type": "markdown",
      "source": [
        "197. Rising Temperature"
      ],
      "metadata": {
        "id": "D0l5UjO3fZ1n"
      }
    },
    {
      "cell_type": "code",
      "source": [
        "SELECT w1.Id\n",
        "FROM Weather w1\n",
        "JOIN Weather w2\n",
        "ON DATEDIFF(w1.RecordDate, w2.RecordDate) = 1\n",
        "WHERE w1.Temperature > w2.Temperature;"
      ],
      "metadata": {
        "id": "mVRlMJkwfZFG"
      },
      "execution_count": null,
      "outputs": []
    },
    {
      "cell_type": "markdown",
      "source": [
        "202. Happy Number"
      ],
      "metadata": {
        "id": "aJXF-M-vff4Y"
      }
    },
    {
      "cell_type": "code",
      "source": [
        "class Solution:\n",
        "    def isHappy(self, n: int) -> bool:\n",
        "        def get_next(num):\n",
        "            total_sum = 0\n",
        "            while num > 0:\n",
        "                num, digit = divmod(num, 10)\n",
        "                total_sum += digit ** 2\n",
        "            return total_sum\n",
        "\n",
        "        seen = set()\n",
        "        while n != 1 and n not in seen:\n",
        "            seen.add(n)\n",
        "            n = get_next(n)\n",
        "        return n == 1"
      ],
      "metadata": {
        "id": "Pn-ZY_MKflYc"
      },
      "execution_count": null,
      "outputs": []
    },
    {
      "cell_type": "markdown",
      "source": [
        "203. Remove Linked List Elements"
      ],
      "metadata": {
        "id": "tfahl5yBfpD8"
      }
    },
    {
      "cell_type": "code",
      "source": [
        "class Solution:\n",
        "    def removeElements(self, head: Optional[ListNode], val: int) -> Optional[ListNode]:\n",
        "        dummy = ListNode(0)\n",
        "        dummy.next = head\n",
        "        current = dummy\n",
        "\n",
        "        while current.next:\n",
        "            if current.next.val == val:\n",
        "                current.next = current.next.next\n",
        "            else:\n",
        "                current = current.next\n",
        "\n",
        "        return dummy.next\n"
      ],
      "metadata": {
        "id": "YZfIIsdFftyF"
      },
      "execution_count": null,
      "outputs": []
    },
    {
      "cell_type": "markdown",
      "source": [
        "205. Isomorphic Strings"
      ],
      "metadata": {
        "id": "m6vat0ItfwQV"
      }
    },
    {
      "cell_type": "code",
      "source": [
        "class Solution:\n",
        "    def isIsomorphic(self, s: str, t: str) -> bool:\n",
        "        if len(s) != len(t):\n",
        "            return False\n",
        "\n",
        "        s_to_t = {}\n",
        "        t_to_s = {}\n",
        "\n",
        "        for char_s, char_t in zip(s, t):\n",
        "            if char_s in s_to_t and s_to_t[char_s] != char_t:\n",
        "                return False\n",
        "            if char_t in t_to_s and t_to_s[char_t] != char_s:\n",
        "                return False\n",
        "\n",
        "            s_to_t[char_s] = char_t\n",
        "            t_to_s[char_t] = char_s\n",
        "\n",
        "        return True"
      ],
      "metadata": {
        "id": "S3OBwfgLf1qR"
      },
      "execution_count": null,
      "outputs": []
    },
    {
      "cell_type": "markdown",
      "source": [
        "206. Reverse Linked List"
      ],
      "metadata": {
        "id": "hCe4R8Gkf36U"
      }
    },
    {
      "cell_type": "code",
      "source": [
        "class Solution:\n",
        "    def reverseList(self, head: Optional[ListNode]) -> Optional[ListNode]:\n",
        "        prev_node = None\n",
        "        current_node = head\n",
        "\n",
        "        while current_node:\n",
        "            next_node = current_node.next\n",
        "            current_node.next = prev_node\n",
        "            prev_node = current_node\n",
        "            current_node = next_node\n",
        "\n",
        "        return prev_node"
      ],
      "metadata": {
        "id": "Nkd6orc4f7jq"
      },
      "execution_count": null,
      "outputs": []
    },
    {
      "cell_type": "markdown",
      "source": [
        "217. Contains Duplicate"
      ],
      "metadata": {
        "id": "RXJpAUwCf9co"
      }
    },
    {
      "cell_type": "code",
      "source": [
        "class Solution:\n",
        "    def containsDuplicate(self, nums: List[int]) -> bool:\n",
        "        seen = set()\n",
        "        for num in nums:\n",
        "            if num in seen:\n",
        "                return True\n",
        "            seen.add(num)\n",
        "        return False"
      ],
      "metadata": {
        "id": "fmMuQSSXgBA6"
      },
      "execution_count": null,
      "outputs": []
    },
    {
      "cell_type": "markdown",
      "source": [
        "219. Contains Duplicate II"
      ],
      "metadata": {
        "id": "xBFKOEhOgCin"
      }
    },
    {
      "cell_type": "code",
      "source": [
        "class Solution:\n",
        "    def containsNearbyDuplicate(self, nums: List[int], k: int) -> bool:\n",
        "        seen = {}\n",
        "        for i, num in enumerate(nums):\n",
        "            if num in seen and i - seen[num] <= k:\n",
        "                return True\n",
        "            seen[num] = i\n",
        "        return False"
      ],
      "metadata": {
        "id": "-9kJQ9P7gGxo"
      },
      "execution_count": null,
      "outputs": []
    },
    {
      "cell_type": "markdown",
      "source": [
        "222. Count Complete Tree Nodes"
      ],
      "metadata": {
        "id": "M0LFU6FogImb"
      }
    },
    {
      "cell_type": "code",
      "source": [
        "class Solution:\n",
        "    def countNodes(self, root: Optional[TreeNode]) -> int:\n",
        "        if not root:\n",
        "            return 0\n",
        "        left_height = self.get_height(root.left)\n",
        "        right_height = self.get_height(root.right)\n",
        "        if left_height == right_height:\n",
        "            return (1 << left_height) + self.countNodes(root.right)\n",
        "        else:\n",
        "            return (1 << right_height) + self.countNodes(root.left)\n",
        "\n",
        "    def get_height(self, node: TreeNode) -> int:\n",
        "        height = 0\n",
        "        while node:\n",
        "            height += 1\n",
        "            node = node.left\n",
        "        return height"
      ],
      "metadata": {
        "id": "9p6isW5UgNjI"
      },
      "execution_count": null,
      "outputs": []
    },
    {
      "cell_type": "markdown",
      "source": [
        "225. Implement Stack using Queues"
      ],
      "metadata": {
        "id": "-kpRbJ2TgSxi"
      }
    },
    {
      "cell_type": "code",
      "source": [
        "class MyStack:\n",
        "\n",
        "    def __init__(self):\n",
        "        self.stack = []\n",
        "\n",
        "    def push(self, x: int) -> None:\n",
        "        self.stack.append(x)\n",
        "\n",
        "    def pop(self) -> int:\n",
        "        if self.empty():\n",
        "            return None\n",
        "        return self.stack.pop()\n",
        "\n",
        "    def top(self) -> int:\n",
        "        if self.empty():\n",
        "            return None\n",
        "        return self.stack[-1]\n",
        "\n",
        "    def empty(self) -> bool:\n",
        "        return len(self.stack) == 0"
      ],
      "metadata": {
        "id": "WsykbUOGgXTr"
      },
      "execution_count": null,
      "outputs": []
    },
    {
      "cell_type": "markdown",
      "source": [
        "226. Invert Binary Tree"
      ],
      "metadata": {
        "id": "6FVz-LWPgZAh"
      }
    },
    {
      "cell_type": "code",
      "source": [
        "class Solution:\n",
        "    def invertTree(self, root: Optional[TreeNode]) -> Optional[TreeNode]:\n",
        "        if root is None:\n",
        "            return None\n",
        "\n",
        "        root.left, root.right = self.invertTree(root.right), self.invertTree(root.left)\n",
        "\n",
        "        return root"
      ],
      "metadata": {
        "id": "u7wJacZRgc6h"
      },
      "execution_count": null,
      "outputs": []
    },
    {
      "cell_type": "markdown",
      "source": [
        "228. Summary Ranges"
      ],
      "metadata": {
        "id": "5CFbnjdNggmz"
      }
    },
    {
      "cell_type": "code",
      "source": [
        "class Solution:\n",
        "    def summaryRanges(self, nums: List[int]) -> List[str]:\n",
        "        if not nums:\n",
        "            return []\n",
        "\n",
        "        ranges = []\n",
        "        start = nums[0]\n",
        "\n",
        "        for i in range(1, len(nums)):\n",
        "            if nums[i] != nums[i - 1] + 1:\n",
        "                if start == nums[i - 1]:\n",
        "                    ranges.append(str(start))\n",
        "                else:\n",
        "                    ranges.append(str(start) + \"->\" + str(nums[i - 1]))\n",
        "                start = nums[i]\n",
        "\n",
        "        if start == nums[-1]:\n",
        "            ranges.append(str(start))\n",
        "        else:\n",
        "            ranges.append(str(start) + \"->\" + str(nums[-1]))\n",
        "\n",
        "        return ranges"
      ],
      "metadata": {
        "id": "41dKa3IOgkqw"
      },
      "execution_count": null,
      "outputs": []
    },
    {
      "cell_type": "markdown",
      "source": [
        "231. Power of Two"
      ],
      "metadata": {
        "id": "4aQ46RqlgoIZ"
      }
    },
    {
      "cell_type": "code",
      "source": [
        "class Solution:\n",
        "    def isPowerOfTwo(self, n: int) -> bool:\n",
        "        if n <= 0:\n",
        "            return False\n",
        "\n",
        "        return (n & (n - 1)) == 0"
      ],
      "metadata": {
        "id": "1ZohFjyjgrXp"
      },
      "execution_count": null,
      "outputs": []
    },
    {
      "cell_type": "markdown",
      "source": [
        "232. Implement Queue using Stacks"
      ],
      "metadata": {
        "id": "YEmiwV-dgtiU"
      }
    },
    {
      "cell_type": "code",
      "source": [
        "class MyQueue:\n",
        "\n",
        "    def __init__(self):\n",
        "        self.stack1 = []\n",
        "        self.stack2 = []\n",
        "\n",
        "    def push(self, x: int) -> None:\n",
        "        self.stack1.append(x)\n",
        "\n",
        "    def pop(self) -> int:\n",
        "        self.move()\n",
        "        if self.stack2:\n",
        "            return self.stack2.pop()\n",
        "        else:\n",
        "            return None\n",
        "\n",
        "    def peek(self) -> int:\n",
        "        self.move()\n",
        "        if self.stack2:\n",
        "            return self.stack2[-1]\n",
        "        else:\n",
        "            return None\n",
        "\n",
        "    def empty(self) -> bool:\n",
        "        return not self.stack1 and not self.stack2\n",
        "\n",
        "    def move(self) -> None:\n",
        "\n",
        "        if not self.stack2:\n",
        "            while self.stack1:\n",
        "                self.stack2.append(self.stack1.pop())"
      ],
      "metadata": {
        "id": "vDGAd0XJgzhV"
      },
      "execution_count": null,
      "outputs": []
    },
    {
      "cell_type": "markdown",
      "source": [
        "234. Palindrome Linked List"
      ],
      "metadata": {
        "id": "YWxdkz-rg5eJ"
      }
    },
    {
      "cell_type": "code",
      "source": [
        "class Solution:\n",
        "    def isPalindrome(self, head: Optional[ListNode]) -> bool:\n",
        "        values = []\n",
        "        current = head\n",
        "        while current:\n",
        "            values.append(current.val)\n",
        "            current = current.next\n",
        "        return values == values[::-1]"
      ],
      "metadata": {
        "id": "EGAFK8fGhBID"
      },
      "execution_count": null,
      "outputs": []
    },
    {
      "cell_type": "markdown",
      "source": [
        "242. Valid Anagram"
      ],
      "metadata": {
        "id": "jKdqUkaohGAE"
      }
    },
    {
      "cell_type": "code",
      "source": [
        "class Solution:\n",
        "    def isAnagram(self, s: str, t: str) -> bool:\n",
        "        if len(s) != len(t):\n",
        "            return False\n",
        "\n",
        "        counter = {}\n",
        "\n",
        "        for char in s:\n",
        "            if char in counter:\n",
        "                counter[char] += 1\n",
        "            else:\n",
        "                counter[char] = 1\n",
        "\n",
        "        for char in t:\n",
        "            if char in counter:\n",
        "                counter[char] -= 1\n",
        "            else:\n",
        "                return False\n",
        "\n",
        "        for count in counter.values():\n",
        "            if count != 0:\n",
        "                return False\n",
        "\n",
        "        return True\n"
      ],
      "metadata": {
        "id": "FmTpIADZg9LM"
      },
      "execution_count": null,
      "outputs": []
    },
    {
      "cell_type": "markdown",
      "source": [
        "257. Binary Tree Paths"
      ],
      "metadata": {
        "id": "cfexlxPXhUIS"
      }
    },
    {
      "cell_type": "code",
      "source": [
        "class Solution:\n",
        "    def binaryTreePaths(self, root: Optional[TreeNode]) -> List[str]:\n",
        "        paths = []\n",
        "        if root is None:\n",
        "            return paths\n",
        "\n",
        "        def dfs(node, path):\n",
        "            if node.left is None and node.right is None:\n",
        "                paths.append(path)\n",
        "                return\n",
        "\n",
        "            if node.left:\n",
        "                dfs(node.left, path + \"->\" + str(node.left.val))\n",
        "            if node.right:\n",
        "                dfs(node.right, path + \"->\" + str(node.right.val))\n",
        "\n",
        "        dfs(root, str(root.val))\n",
        "        return paths\n"
      ],
      "metadata": {
        "id": "Cp7h7lYHhYoY"
      },
      "execution_count": null,
      "outputs": []
    },
    {
      "cell_type": "markdown",
      "source": [
        "258. Add Digits"
      ],
      "metadata": {
        "id": "fbvUhjflhe8B"
      }
    },
    {
      "cell_type": "code",
      "source": [
        "class Solution:\n",
        "    def addDigits(self, num: int) -> int:\n",
        "        while num >= 10:\n",
        "            total = 0\n",
        "            while num > 0:\n",
        "                total += num % 10\n",
        "                num //= 10\n",
        "            num = total\n",
        "        return num"
      ],
      "metadata": {
        "id": "dAwtxHeAhiDA"
      },
      "execution_count": null,
      "outputs": []
    },
    {
      "cell_type": "markdown",
      "source": [
        "263. Ugly Number"
      ],
      "metadata": {
        "id": "75XHsOmihkyU"
      }
    },
    {
      "cell_type": "code",
      "source": [
        "class Solution:\n",
        "    def isUgly(self, n: int) -> bool:\n",
        "        if n <= 0:\n",
        "            return False\n",
        "\n",
        "        while n % 2 == 0:\n",
        "            n //= 2\n",
        "        while n % 3 == 0:\n",
        "            n //= 3\n",
        "        while n % 5 == 0:\n",
        "            n //= 5\n",
        "\n",
        "        return n == 1\n"
      ],
      "metadata": {
        "id": "i7MsA179hrPb"
      },
      "execution_count": null,
      "outputs": []
    },
    {
      "cell_type": "markdown",
      "source": [
        "268. Missing Number"
      ],
      "metadata": {
        "id": "JuBWjd10huL1"
      }
    },
    {
      "cell_type": "code",
      "source": [
        "class Solution:\n",
        "    def missingNumber(self, nums: List[int]) -> int:\n",
        "        n = len(nums)\n",
        "        expected_sum = n * (n + 1) // 2\n",
        "        actual_sum = sum(nums)\n",
        "        return expected_sum - actual_sum"
      ],
      "metadata": {
        "id": "k4DEYeMPh1Qe"
      },
      "execution_count": null,
      "outputs": []
    },
    {
      "cell_type": "markdown",
      "source": [
        "278. First Bad Version"
      ],
      "metadata": {
        "id": "89oafw61h5WK"
      }
    },
    {
      "cell_type": "code",
      "source": [
        "class Solution:\n",
        "    def firstBadVersion(self, n: int) -> int:\n",
        "        left = 1\n",
        "        right = n\n",
        "\n",
        "        while left < right:\n",
        "            mid = left + (right - left) // 2\n",
        "            if isBadVersion(mid):\n",
        "                right = mid\n",
        "            else:\n",
        "                left = mid + 1\n",
        "\n",
        "        return left"
      ],
      "metadata": {
        "id": "N-NrtxT_h-5Z"
      },
      "execution_count": null,
      "outputs": []
    },
    {
      "cell_type": "markdown",
      "source": [
        "283. Move Zeroes"
      ],
      "metadata": {
        "id": "Yxbh2cfdiB2_"
      }
    },
    {
      "cell_type": "code",
      "source": [
        "class Solution:\n",
        "    def moveZeroes(self, nums: List[int]) -> None:\n",
        "        current = 0\n",
        "\n",
        "        for i in range(len(nums)):\n",
        "            if nums[i] != 0:\n",
        "                nums[current] = nums[i]\n",
        "                current += 1\n",
        "\n",
        "        for i in range(current, len(nums)):\n",
        "            nums[i] = 0"
      ],
      "metadata": {
        "id": "HVqDoaUkiGSC"
      },
      "execution_count": null,
      "outputs": []
    },
    {
      "cell_type": "markdown",
      "source": [
        "290. Word Pattern"
      ],
      "metadata": {
        "id": "bF2uNvACiN_w"
      }
    },
    {
      "cell_type": "code",
      "source": [
        "class Solution:\n",
        "    def wordPattern(self, pattern: str, s: str) -> bool:\n",
        "        words = s.split()\n",
        "\n",
        "        if len(pattern) != len(words):\n",
        "            return False\n",
        "\n",
        "        pattern_map = {}\n",
        "        word_map = {}\n",
        "\n",
        "        for char, word in zip(pattern, words):\n",
        "            if char in pattern_map:\n",
        "                if pattern_map[char] != word:\n",
        "                    return False\n",
        "            else:\n",
        "                if word in word_map:\n",
        "                    return False\n",
        "                pattern_map[char] = word\n",
        "                word_map[word] = char\n",
        "\n",
        "        return True"
      ],
      "metadata": {
        "id": "F0Eh4fcPiRjd"
      },
      "execution_count": null,
      "outputs": []
    },
    {
      "cell_type": "markdown",
      "source": [
        "292. Nim Game"
      ],
      "metadata": {
        "id": "V7vC6obOiaFq"
      }
    },
    {
      "cell_type": "code",
      "source": [
        "class Solution:\n",
        "    def canWinNim(self, n: int) -> bool:\n",
        "        return n % 4 != 0"
      ],
      "metadata": {
        "id": "qgEnWGICidsW"
      },
      "execution_count": null,
      "outputs": []
    },
    {
      "cell_type": "markdown",
      "source": [
        "303. Range Sum Query - Immutable"
      ],
      "metadata": {
        "id": "PhGCJmDDihk5"
      }
    },
    {
      "cell_type": "code",
      "source": [
        "from typing import List\n",
        "\n",
        "class NumArray:\n",
        "\n",
        "    def __init__(self, nums: List[int]):\n",
        "        self.prefix_sums = [0] * (len(nums) + 1)\n",
        "        for i in range(len(nums)):\n",
        "            self.prefix_sums[i + 1] = self.prefix_sums[i] + nums[i]\n",
        "\n",
        "    def sumRange(self, left: int, right: int) -> int:\n",
        "        return self.prefix_sums[right + 1] - self.prefix_sums[left]"
      ],
      "metadata": {
        "id": "8ZXpKKEGjN7-"
      },
      "execution_count": null,
      "outputs": []
    },
    {
      "cell_type": "markdown",
      "source": [
        "326. Power of Three"
      ],
      "metadata": {
        "id": "FhsXBYakjRS-"
      }
    },
    {
      "cell_type": "code",
      "source": [
        "class Solution:\n",
        "    def isPowerOfThree(self, n: int) -> bool:\n",
        "        if n <= 0:\n",
        "            return False\n",
        "        while n % 3 == 0:\n",
        "            n //= 3\n",
        "        return n == 1"
      ],
      "metadata": {
        "id": "2o54uzCUjWA0"
      },
      "execution_count": null,
      "outputs": []
    },
    {
      "cell_type": "markdown",
      "source": [
        "338. Counting Bits"
      ],
      "metadata": {
        "id": "QujFyOMEjX3A"
      }
    },
    {
      "cell_type": "code",
      "source": [
        "from typing import List\n",
        "\n",
        "class Solution:\n",
        "    def countBits(self, n: int) -> List[int]:\n",
        "        result = [0] * (n + 1)\n",
        "        for i in range(1, n + 1):\n",
        "            result[i] = result[i >> 1] + (i & 1)\n",
        "        return result"
      ],
      "metadata": {
        "id": "aJ5aPf4rjcz3"
      },
      "execution_count": null,
      "outputs": []
    },
    {
      "cell_type": "markdown",
      "source": [
        "342. Power of Four"
      ],
      "metadata": {
        "id": "gSgP4Y0yjeow"
      }
    },
    {
      "cell_type": "code",
      "source": [
        "class Solution:\n",
        "    def isPowerOfFour(self, n: int) -> bool:\n",
        "        if n <= 0:\n",
        "            return False\n",
        "        while n % 4 == 0:\n",
        "            n //= 4\n",
        "        return n == 1"
      ],
      "metadata": {
        "id": "Xmymyn7tjjkv"
      },
      "execution_count": null,
      "outputs": []
    },
    {
      "cell_type": "markdown",
      "source": [
        "344. Reverse String"
      ],
      "metadata": {
        "id": "fIGPmJ_WjnOJ"
      }
    },
    {
      "cell_type": "code",
      "source": [
        "from typing import List\n",
        "\n",
        "class Solution:\n",
        "    def reverseString(self, s: List[str]) -> None:\n",
        "        left, right = 0, len(s) - 1\n",
        "        while left < right:\n",
        "            s[left], s[right] = s[right], s[left]\n",
        "            left += 1\n",
        "            right -= 1"
      ],
      "metadata": {
        "id": "KqJzHGdUjrHj"
      },
      "execution_count": null,
      "outputs": []
    },
    {
      "cell_type": "markdown",
      "source": [
        "345. Reverse Vowels of a String"
      ],
      "metadata": {
        "id": "a6Zg9WKYjt94"
      }
    },
    {
      "cell_type": "code",
      "source": [
        "class Solution:\n",
        "    def reverseVowels(self, s: str) -> str:\n",
        "        vowels = set('aeiouAEIOU')\n",
        "        s = list(s)\n",
        "        left, right = 0, len(s) - 1\n",
        "\n",
        "        while left < right:\n",
        "            while left < right and s[left] not in vowels:\n",
        "                left += 1\n",
        "            while left < right and s[right] not in vowels:\n",
        "                right -= 1\n",
        "\n",
        "            if left < right:\n",
        "                s[left], s[right] = s[right], s[left]\n",
        "                left += 1\n",
        "                right -= 1\n",
        "\n",
        "        return ''.join(s)"
      ],
      "metadata": {
        "id": "1zeqT2Mejz7R"
      },
      "execution_count": null,
      "outputs": []
    },
    {
      "cell_type": "markdown",
      "source": [
        "349. Intersection of Two Arrays"
      ],
      "metadata": {
        "id": "9kxkLoi9j2DD"
      }
    },
    {
      "cell_type": "code",
      "source": [
        "from typing import List\n",
        "\n",
        "class Solution:\n",
        "    def intersection(self, nums1: List[int], nums2: List[int]) -> List[int]:\n",
        "        set1 = set(nums1)\n",
        "        set2 = set(nums2)\n",
        "        intersection = set1 & set2\n",
        "        return list(intersection)"
      ],
      "metadata": {
        "id": "UGYik0Zrj68f"
      },
      "execution_count": null,
      "outputs": []
    },
    {
      "cell_type": "markdown",
      "source": [
        "350. Intersection of Two Arrays II"
      ],
      "metadata": {
        "id": "QR3WcXsdj8Q5"
      }
    },
    {
      "cell_type": "code",
      "source": [
        "from typing import List\n",
        "from collections import Counter\n",
        "\n",
        "class Solution:\n",
        "    def intersect(self, nums1: List[int], nums2: List[int]) -> List[int]:\n",
        "        count1 = Counter(nums1)\n",
        "        count2 = Counter(nums2)\n",
        "        intersection = []\n",
        "\n",
        "        for num in count1:\n",
        "            if num in count2:\n",
        "                intersection.extend([num] * min(count1[num], count2[num]))\n",
        "\n",
        "        return intersection"
      ],
      "metadata": {
        "id": "e_mHjmObkWJ6"
      },
      "execution_count": null,
      "outputs": []
    },
    {
      "cell_type": "markdown",
      "source": [
        "367. Valid Perfect Square"
      ],
      "metadata": {
        "id": "HZN1RcCCkYsc"
      }
    },
    {
      "cell_type": "code",
      "source": [
        "class Solution:\n",
        "    def isPerfectSquare(self, num: int) -> bool:\n",
        "        if num < 1:\n",
        "            return False\n",
        "\n",
        "        left, right = 1, num\n",
        "        while left <= right:\n",
        "            mid = left + (right - left) // 2\n",
        "            mid_squared = mid * mid\n",
        "\n",
        "            if mid_squared == num:\n",
        "                return True\n",
        "            elif mid_squared < num:\n",
        "                left = mid + 1\n",
        "            else:\n",
        "                right = mid - 1\n",
        "\n",
        "        return False\n"
      ],
      "metadata": {
        "id": "pG35y-9pke99"
      },
      "execution_count": null,
      "outputs": []
    },
    {
      "cell_type": "markdown",
      "source": [
        "374. Guess Number Higher or Lower"
      ],
      "metadata": {
        "id": "DcyW53dNlzq7"
      }
    },
    {
      "cell_type": "code",
      "source": [
        "class Solution:\n",
        "    def guessNumber(self, n: int) -> int:\n",
        "        left, right = 1, n\n",
        "        while left <= right:\n",
        "            mid = left + (right - left) // 2\n",
        "            result = guess(mid)\n",
        "            if result == 0:\n",
        "                return mid\n",
        "            elif result == -1:\n",
        "                right = mid - 1\n",
        "            else:\n",
        "                left = mid + 1\n",
        "        return -1"
      ],
      "metadata": {
        "id": "ys7BlXVPl_kw"
      },
      "execution_count": null,
      "outputs": []
    },
    {
      "cell_type": "markdown",
      "source": [
        "383. Ransom Note"
      ],
      "metadata": {
        "id": "pOElWGkZmR0z"
      }
    },
    {
      "cell_type": "code",
      "source": [
        "class Solution:\n",
        "    def canConstruct(self, ransomNote: str, magazine: str) -> bool:\n",
        "        from collections import Counter\n",
        "\n",
        "        ransom_count = Counter(ransomNote)\n",
        "        magazine_count = Counter(magazine)\n",
        "\n",
        "        for char, count in ransom_count.items():\n",
        "            if magazine_count[char] < count:\n",
        "                return False\n",
        "\n",
        "        return True"
      ],
      "metadata": {
        "id": "_oJMSExemVzu"
      },
      "execution_count": null,
      "outputs": []
    },
    {
      "cell_type": "markdown",
      "source": [
        "387. First Unique Character in a String"
      ],
      "metadata": {
        "id": "3QqEZZc4mXr4"
      }
    },
    {
      "cell_type": "code",
      "source": [
        "class Solution:\n",
        "    def firstUniqChar(self, s: str) -> int:\n",
        "        from collections import Counter\n",
        "\n",
        "        count = Counter(s)\n",
        "\n",
        "        for index, char in enumerate(s):\n",
        "            if count[char] == 1:\n",
        "                return index\n",
        "\n",
        "        return -1"
      ],
      "metadata": {
        "id": "JfNfxuh0meXa"
      },
      "execution_count": null,
      "outputs": []
    },
    {
      "cell_type": "markdown",
      "source": [
        "389. Find the Difference"
      ],
      "metadata": {
        "id": "1Ltb-kg3mhoV"
      }
    },
    {
      "cell_type": "code",
      "source": [
        "class Solution:\n",
        "    def findTheDifference(self, s: str, t: str) -> str:\n",
        "        result = 0\n",
        "        for char in s + t:\n",
        "            result ^= ord(char)\n",
        "        return chr(result)"
      ],
      "metadata": {
        "id": "CSL_JpYLmmuy"
      },
      "execution_count": null,
      "outputs": []
    },
    {
      "cell_type": "markdown",
      "source": [
        "392. Is Subsequence"
      ],
      "metadata": {
        "id": "rEZW2qJcmpg-"
      }
    },
    {
      "cell_type": "code",
      "source": [
        "class Solution:\n",
        "    def isSubsequence(self, s: str, t: str) -> bool:\n",
        "        if not s:\n",
        "            return True\n",
        "\n",
        "        s_index, t_index = 0, 0\n",
        "        while t_index < len(t):\n",
        "            if t[t_index] == s[s_index]:\n",
        "                s_index += 1\n",
        "                if s_index == len(s):\n",
        "                    return True\n",
        "            t_index += 1\n",
        "\n",
        "        return False"
      ],
      "metadata": {
        "id": "IVe0CspGm0Fi"
      },
      "execution_count": null,
      "outputs": []
    },
    {
      "cell_type": "markdown",
      "source": [
        "401. Binary Watch"
      ],
      "metadata": {
        "id": "xyoubXqmnS9U"
      }
    },
    {
      "cell_type": "code",
      "source": [
        "from itertools import combinations\n",
        "from typing import List\n",
        "\n",
        "class Solution:\n",
        "    def readBinaryWatch(self, turnedOn: int) -> List[str]:\n",
        "        if turnedOn > 8:\n",
        "            return []\n",
        "\n",
        "        result = []\n",
        "        for leds in combinations(range(10), turnedOn):\n",
        "            hour, minute = 0, 0\n",
        "            for led in leds:\n",
        "                if led < 4:\n",
        "                    hour += 1 << led\n",
        "                else:\n",
        "                    minute += 1 << (led - 4)\n",
        "            if hour < 12 and minute < 60:\n",
        "                result.append(f\"{hour}:{minute:02d}\")\n",
        "        return result"
      ],
      "metadata": {
        "id": "iCT6v3prnXH3"
      },
      "execution_count": null,
      "outputs": []
    },
    {
      "cell_type": "markdown",
      "source": [
        "404. Sum of Left Leaves"
      ],
      "metadata": {
        "id": "rTzTIFMNnf_X"
      }
    },
    {
      "cell_type": "code",
      "source": [
        "class Solution:\n",
        "    def sumOfLeftLeaves(self, root: Optional[TreeNode]) -> int:\n",
        "        def isLeaf(node):\n",
        "            return node is not None and node.left is None and node.right is None\n",
        "\n",
        "        def dfs(node):\n",
        "            if node is None:\n",
        "                return 0\n",
        "            left_sum = dfs(node.left)\n",
        "            right_sum = dfs(node.right)\n",
        "            if isLeaf(node.left):\n",
        "                return node.left.val + left_sum + right_sum\n",
        "            return left_sum + right_sum\n",
        "\n",
        "        return dfs(root)"
      ],
      "metadata": {
        "id": "tFiVASjjnqOg"
      },
      "execution_count": null,
      "outputs": []
    },
    {
      "cell_type": "markdown",
      "source": [
        "405. Convert a Number to Hexadecimal"
      ],
      "metadata": {
        "id": "eY1xdqvbnu19"
      }
    },
    {
      "cell_type": "code",
      "source": [
        "class Solution:\n",
        "    def toHex(self, num: int) -> str:\n",
        "        if num == 0:\n",
        "            return \"0\"\n",
        "\n",
        "        if num < 0:\n",
        "            num += 2 ** 32\n",
        "\n",
        "        hex_chars = \"0123456789abcdef\"\n",
        "        result = []\n",
        "\n",
        "        while num > 0:\n",
        "            result.append(hex_chars[num % 16])\n",
        "            num //= 16\n",
        "\n",
        "        return ''.join(result[::-1])"
      ],
      "metadata": {
        "id": "FN7_8zwHnz50"
      },
      "execution_count": null,
      "outputs": []
    },
    {
      "cell_type": "markdown",
      "source": [
        "409. Longest Palindrome"
      ],
      "metadata": {
        "id": "69BBhJN1n2w2"
      }
    },
    {
      "cell_type": "code",
      "source": [
        "class Solution:\n",
        "    def longestPalindrome(self, s: str) -> int:\n",
        "        from collections import Counter\n",
        "\n",
        "        counter = Counter(s)\n",
        "\n",
        "        palindrome_length = sum(count // 2 * 2 for count in counter.values())\n",
        "\n",
        "        if palindrome_length < len(s):\n",
        "            palindrome_length += 1\n",
        "\n",
        "        return palindrome_length"
      ],
      "metadata": {
        "id": "TK3i1nHYn7BD"
      },
      "execution_count": null,
      "outputs": []
    },
    {
      "cell_type": "markdown",
      "source": [
        "412. Fizz Buzz"
      ],
      "metadata": {
        "id": "UisqK0EXn_v0"
      }
    },
    {
      "cell_type": "code",
      "source": [
        "class Solution:\n",
        "    def fizzBuzz(self, n: int) -> List[str]:\n",
        "        result = []\n",
        "        for i in range(1, n + 1):\n",
        "            if i % 3 == 0 and i % 5 == 0:\n",
        "                result.append(\"FizzBuzz\")\n",
        "            elif i % 3 == 0:\n",
        "                result.append(\"Fizz\")\n",
        "            elif i % 5 == 0:\n",
        "                result.append(\"Buzz\")\n",
        "            else:\n",
        "                result.append(str(i))\n",
        "        return result"
      ],
      "metadata": {
        "id": "7QvR4-RDoDXc"
      },
      "execution_count": null,
      "outputs": []
    },
    {
      "cell_type": "markdown",
      "source": [
        "434. Number of Segments in a String"
      ],
      "metadata": {
        "id": "mCn1KWGVoEh3"
      }
    },
    {
      "cell_type": "code",
      "source": [
        "class Solution:\n",
        "    def countSegments(self, s: str) -> int:\n",
        "        return len([segment for segment in s.split() if segment])"
      ],
      "metadata": {
        "id": "9rJKYDEroKiv"
      },
      "execution_count": null,
      "outputs": []
    },
    {
      "cell_type": "markdown",
      "source": [
        "441. Arranging Coins"
      ],
      "metadata": {
        "id": "JeUgbIJtoNZg"
      }
    },
    {
      "cell_type": "code",
      "source": [
        "class Solution:\n",
        "    def arrangeCoins(self, n: int) -> int:\n",
        "        left, right = 0, n\n",
        "\n",
        "        while left <= right:\n",
        "            mid = (left + right) // 2\n",
        "            current = mid * (mid + 1) // 2\n",
        "\n",
        "            if current == n:\n",
        "                return mid\n",
        "            if current < n:\n",
        "                left = mid + 1\n",
        "            else:\n",
        "                right = mid - 1\n",
        "\n",
        "        return right"
      ],
      "metadata": {
        "id": "OwZR-vONoY18"
      },
      "execution_count": null,
      "outputs": []
    },
    {
      "cell_type": "markdown",
      "source": [
        "442. Find All Duplicates in an Array"
      ],
      "metadata": {
        "id": "oROvuFPvobB7"
      }
    },
    {
      "cell_type": "code",
      "source": [
        "from typing import List\n",
        "\n",
        "class Solution:\n",
        "    def findDuplicates(self, nums: List[int]) -> List[int]:\n",
        "        duplicates = []\n",
        "        for num in nums:\n",
        "            index = abs(num) - 1\n",
        "            if nums[index] < 0:\n",
        "                duplicates.append(index + 1)\n",
        "            nums[index] = -nums[index]\n",
        "        return duplicates"
      ],
      "metadata": {
        "id": "xtbq0_1Zofn-"
      },
      "execution_count": null,
      "outputs": []
    },
    {
      "cell_type": "markdown",
      "source": [
        "445. Add Two Numbers II"
      ],
      "metadata": {
        "id": "gzIBMfa-ohoq"
      }
    },
    {
      "cell_type": "code",
      "source": [
        "class Solution:\n",
        "    def addTwoNumbers(self, l1: Optional[ListNode], l2: Optional[ListNode]) -> Optional[ListNode]:\n",
        "        def reverse_list(head: Optional[ListNode]) -> Optional[ListNode]:\n",
        "            prev = None\n",
        "            current = head\n",
        "            while current:\n",
        "                next_node = current.next\n",
        "                current.next = prev\n",
        "                prev = current\n",
        "                current = next_node\n",
        "            return prev\n",
        "\n",
        "        def add_lists(l1: Optional[ListNode], l2: Optional[ListNode]) -> Optional[ListNode]:\n",
        "            carry = 0\n",
        "            dummy = ListNode(0)\n",
        "            current = dummy\n",
        "            while l1 or l2 or carry:\n",
        "                val1 = l1.val if l1 else 0\n",
        "                val2 = l2.val if l2 else 0\n",
        "                total = val1 + val2 + carry\n",
        "                carry = total // 10\n",
        "                current.next = ListNode(total % 10)\n",
        "                current = current.next\n",
        "                if l1: l1 = l1.next\n",
        "                if l2: l2 = l2.next\n",
        "            return dummy.next\n",
        "\n",
        "        l1 = reverse_list(l1)\n",
        "        l2 = reverse_list(l2)\n",
        "\n",
        "        result = add_lists(l1, l2)\n",
        "\n",
        "        result = reverse_list(result)\n",
        "\n",
        "        return result\n"
      ],
      "metadata": {
        "id": "xx1Z315ToonA"
      },
      "execution_count": null,
      "outputs": []
    },
    {
      "cell_type": "markdown",
      "source": [
        "448. Find All Numbers Disappeared in an Array"
      ],
      "metadata": {
        "id": "zQ108WxeoyMy"
      }
    },
    {
      "cell_type": "code",
      "source": [
        "class Solution:\n",
        "    def findDisappearedNumbers(self, nums: List[int]) -> List[int]:\n",
        "\n",
        "        for i in range(len(nums)):\n",
        "            while nums[i] != nums[nums[i] - 1]:\n",
        "                nums[nums[i] - 1], nums[i] = nums[i], nums[nums[i] - 1]\n",
        "\n",
        "        return [i + 1 for i in range(len(nums)) if nums[i] != i + 1]\n"
      ],
      "metadata": {
        "id": "LmK5jKZxo9zE"
      },
      "execution_count": null,
      "outputs": []
    },
    {
      "cell_type": "markdown",
      "source": [
        "455. Assign Cookies"
      ],
      "metadata": {
        "id": "JMj5v6LopBf2"
      }
    },
    {
      "cell_type": "code",
      "source": [
        "class Solution:\n",
        "    def findContentChildren(self, g: List[int], s: List[int]) -> int:\n",
        "        g.sort()\n",
        "        s.sort()\n",
        "\n",
        "        child_i = 0\n",
        "        cookie_i = 0\n",
        "\n",
        "        while child_i < len(g) and cookie_i < len(s):\n",
        "            if s[cookie_i] >= g[child_i]:\n",
        "                child_i += 1\n",
        "            cookie_i += 1\n",
        "\n",
        "        return child_i"
      ],
      "metadata": {
        "id": "Pf1SVPhGpF3w"
      },
      "execution_count": null,
      "outputs": []
    },
    {
      "cell_type": "markdown",
      "source": [
        "459. Repeated Substring Pattern"
      ],
      "metadata": {
        "id": "4FOZeAgrpPGg"
      }
    },
    {
      "cell_type": "code",
      "source": [
        "class Solution:\n",
        "    def repeatedSubstringPattern(self, s: str) -> bool:\n",
        "        return s in (s + s)[1:-1]"
      ],
      "metadata": {
        "id": "VMFvUuYspTuz"
      },
      "execution_count": null,
      "outputs": []
    },
    {
      "cell_type": "markdown",
      "source": [
        "461. Hamming Distance"
      ],
      "metadata": {
        "id": "fiGVelLApXFs"
      }
    },
    {
      "cell_type": "code",
      "source": [
        "class Solution:\n",
        "    def hammingDistance(self, x: int, y: int) -> int:\n",
        "        xor = x ^ y\n",
        "        distance = 0\n",
        "        while xor:\n",
        "            distance += xor & 1\n",
        "            xor >>= 1\n",
        "        return distance"
      ],
      "metadata": {
        "id": "6k5Y-lkOpbJc"
      },
      "execution_count": null,
      "outputs": []
    },
    {
      "cell_type": "markdown",
      "source": [
        "463. Island Perimeter"
      ],
      "metadata": {
        "id": "N6yqbrCdpf5J"
      }
    },
    {
      "cell_type": "code",
      "source": [
        "class Solution:\n",
        "    def islandPerimeter(self, grid: List[List[int]]) -> int:\n",
        "        rows, cols = len(grid), len(grid[0])\n",
        "        perimeter = 0\n",
        "\n",
        "        for r in range(rows):\n",
        "            for c in range(cols):\n",
        "                if grid[r][c] == 1:\n",
        "                    perimeter += 4\n",
        "\n",
        "                    if r > 0 and grid[r - 1][c] == 1:\n",
        "                        perimeter -= 2\n",
        "                    if c > 0 and grid[r][c - 1] == 1:\n",
        "                        perimeter -= 2\n",
        "\n",
        "        return perimeter"
      ],
      "metadata": {
        "id": "mFksWH3xpjl1"
      },
      "execution_count": null,
      "outputs": []
    },
    {
      "cell_type": "markdown",
      "source": [
        "476. Number Complement"
      ],
      "metadata": {
        "id": "BazubDDwplAb"
      }
    },
    {
      "cell_type": "code",
      "source": [
        "class Solution:\n",
        "    def findComplement(self, num: int) -> int:\n",
        "        bit_length = num.bit_length()\n",
        "        mask = (1 << bit_length) - 1\n",
        "\n",
        "        return num ^ mask"
      ],
      "metadata": {
        "id": "86ok0Xk5pqDY"
      },
      "execution_count": null,
      "outputs": []
    },
    {
      "cell_type": "markdown",
      "source": [
        "482. License Key Formaating"
      ],
      "metadata": {
        "id": "tdOgDkXRptNc"
      }
    },
    {
      "cell_type": "code",
      "source": [
        "class Solution:\n",
        "    def licenseKeyFormatting(self, s: str, k: int) -> str:\n",
        "        s = s.replace(\"-\", \"\").upper()\n",
        "\n",
        "        result = []\n",
        "\n",
        "        first_group_length = len(s) % k\n",
        "        if first_group_length:\n",
        "            result.append(s[:first_group_length])\n",
        "\n",
        "        for i in range(first_group_length, len(s), k):\n",
        "            result.append(s[i:i + k])\n",
        "\n",
        "        return \"-\".join(result)"
      ],
      "metadata": {
        "id": "QMybU97MpyT5"
      },
      "execution_count": null,
      "outputs": []
    },
    {
      "cell_type": "markdown",
      "source": [
        "485. Max Consecutive Ones"
      ],
      "metadata": {
        "id": "agy1Hx0wp3tA"
      }
    },
    {
      "cell_type": "code",
      "source": [
        "class Solution:\n",
        "    def findMaxConsecutiveOnes(self, nums: List[int]) -> int:\n",
        "        max_ones = 0\n",
        "        current_ones = 0\n",
        "\n",
        "        for num in nums:\n",
        "            if num == 1:\n",
        "                current_ones += 1\n",
        "                max_ones = max(max_ones, current_ones)\n",
        "            else:\n",
        "                current_ones = 0\n",
        "\n",
        "        return max_ones"
      ],
      "metadata": {
        "id": "4tl-2TRVp8yT"
      },
      "execution_count": null,
      "outputs": []
    },
    {
      "cell_type": "markdown",
      "source": [
        "492. Construct the Rectangle"
      ],
      "metadata": {
        "id": "usQ92I6ppsxl"
      }
    },
    {
      "cell_type": "code",
      "source": [
        "class Solution:\n",
        "    def constructRectangle(self, area: int) -> List[int]:\n",
        "        width = int(area ** 0.5)\n",
        "        length = area // width\n",
        "\n",
        "        while area % width != 0:\n",
        "            width -= 1\n",
        "            length = area // width\n",
        "\n",
        "        return [length, width]\n"
      ],
      "metadata": {
        "id": "x_hJJtGQqJGZ"
      },
      "execution_count": null,
      "outputs": []
    },
    {
      "cell_type": "markdown",
      "source": [
        "495. Teemo Attacking"
      ],
      "metadata": {
        "id": "KwGLtCTyqLRH"
      }
    },
    {
      "cell_type": "code",
      "source": [
        "class Solution:\n",
        "    def findPoisonedDuration(self, timeSeries: List[int], duration: int) -> int:\n",
        "        if not timeSeries:\n",
        "            return 0\n",
        "\n",
        "        total_duration = 0\n",
        "        for i in range(1, len(timeSeries)):\n",
        "            total_duration += min(duration, timeSeries[i] - timeSeries[i - 1])\n",
        "\n",
        "        total_duration += duration\n",
        "\n",
        "        return total_duration"
      ],
      "metadata": {
        "id": "zv12fQVzqR0b"
      },
      "execution_count": null,
      "outputs": []
    },
    {
      "cell_type": "markdown",
      "source": [
        "496. Next Greater Element I"
      ],
      "metadata": {
        "id": "90pvlR65qUxm"
      }
    },
    {
      "cell_type": "code",
      "source": [
        "class Solution:\n",
        "    def nextGreaterElement(self, nums1: List[int], nums2: List[int]) -> List[int]:\n",
        "        next_greater_map = {}\n",
        "        stack = []\n",
        "\n",
        "        for num in nums2:\n",
        "            while stack and stack[-1] < num:\n",
        "                next_greater_map[stack.pop()] = num\n",
        "            stack.append(num)\n",
        "\n",
        "        result = []\n",
        "        for num in nums1:\n",
        "            result.append(next_greater_map.get(num, -1))\n",
        "\n",
        "        return result"
      ],
      "metadata": {
        "id": "9EOM9wQ9qZSr"
      },
      "execution_count": null,
      "outputs": []
    },
    {
      "cell_type": "markdown",
      "source": [
        "500. Keyboard Row"
      ],
      "metadata": {
        "id": "FCe1SBnGqc-3"
      }
    },
    {
      "cell_type": "code",
      "source": [
        "class Solution:\n",
        "    def findWords(self, words: List[str]) -> List[str]:\n",
        "        row1 = set(\"qwertyuiop\")\n",
        "        row2 = set(\"asdfghjkl\")\n",
        "        row3 = set(\"zxcvbnm\")\n",
        "\n",
        "        result = []\n",
        "\n",
        "        for word in words:\n",
        "            lower_word = word.lower()\n",
        "            if all(char in row1 for char in lower_word) or \\\n",
        "               all(char in row2 for char in lower_word) or \\\n",
        "               all(char in row3 for char in lower_word):\n",
        "                result.append(word)\n",
        "\n",
        "        return result\n"
      ],
      "metadata": {
        "id": "FOt05F0xqg4S"
      },
      "execution_count": null,
      "outputs": []
    },
    {
      "cell_type": "markdown",
      "source": [
        "501. Find Mode in Binary Search Tree"
      ],
      "metadata": {
        "id": "HP159F3DrYwu"
      }
    },
    {
      "cell_type": "code",
      "source": [
        "class Solution:\n",
        "    def findMode(self, root: Optional[TreeNode]) -> List[int]:\n",
        "        if not root:\n",
        "            return []\n",
        "\n",
        "        def inorder_traversal(node, mode_info):\n",
        "            if not node:\n",
        "                return\n",
        "            inorder_traversal(node.left, mode_info)\n",
        "            mode_info[node.val] = mode_info.get(node.val, 0) + 1\n",
        "            inorder_traversal(node.right, mode_info)\n",
        "\n",
        "        mode_info = {}\n",
        "        inorder_traversal(root, mode_info)\n",
        "\n",
        "        max_count = max(mode_info.values())\n",
        "        modes = [key for key, val in mode_info.items() if val == max_count]\n",
        "\n",
        "        return modes"
      ],
      "metadata": {
        "id": "4phj23rqrj17"
      },
      "execution_count": null,
      "outputs": []
    },
    {
      "cell_type": "markdown",
      "source": [
        "504. Base 7"
      ],
      "metadata": {
        "id": "w3Vt-ia-rlHV"
      }
    },
    {
      "cell_type": "code",
      "source": [
        "class Solution:\n",
        "    def convertToBase7(self, num: int) -> str:\n",
        "        if num == 0:\n",
        "            return \"0\"\n",
        "\n",
        "        result = \"\"\n",
        "        is_negative = False\n",
        "\n",
        "        if num < 0:\n",
        "            is_negative = True\n",
        "            num = -num\n",
        "\n",
        "        while num > 0:\n",
        "            remainder = num % 7\n",
        "            result = str(remainder) + result\n",
        "            num //= 7\n",
        "\n",
        "        if is_negative:\n",
        "            result = \"-\" + result\n",
        "\n",
        "        return result"
      ],
      "metadata": {
        "id": "sZC2GX6HroyN"
      },
      "execution_count": null,
      "outputs": []
    },
    {
      "cell_type": "markdown",
      "source": [
        "506. Relative Ranks"
      ],
      "metadata": {
        "id": "ZRlK5zEGrqVR"
      }
    },
    {
      "cell_type": "code",
      "source": [
        "class Solution:\n",
        "    def findRelativeRanks(self, score: List[int]) -> List[str]:\n",
        "        sorted_score = sorted(score, reverse=True)\n",
        "        ranks = [\"Gold Medal\", \"Silver Medal\", \"Bronze Medal\"] + list(map(str, range(4, len(score) + 1)))\n",
        "\n",
        "        rank_map = {}\n",
        "        for i, s in enumerate(sorted_score):\n",
        "            rank_map[s] = ranks[i]\n",
        "\n",
        "        return [rank_map[s] for s in score]\n"
      ],
      "metadata": {
        "id": "EMLL2MDFrtv-"
      },
      "execution_count": null,
      "outputs": []
    },
    {
      "cell_type": "markdown",
      "source": [
        "507. Perfect Number"
      ],
      "metadata": {
        "id": "1uyjwQsurvux"
      }
    },
    {
      "cell_type": "code",
      "source": [
        "class Solution:\n",
        "    def checkPerfectNumber(self, num: int) -> bool:\n",
        "        if num <= 1:\n",
        "            return False\n",
        "\n",
        "        divisors_sum = 1\n",
        "        divisor = 2\n",
        "\n",
        "        while divisor * divisor <= num:\n",
        "            if num % divisor == 0:\n",
        "                divisors_sum += divisor\n",
        "                if divisor != num // divisor:\n",
        "                    divisors_sum += num // divisor\n",
        "            divisor += 1\n",
        "\n",
        "        return divisors_sum == num"
      ],
      "metadata": {
        "id": "U9rPDc_Gr0R4"
      },
      "execution_count": null,
      "outputs": []
    },
    {
      "cell_type": "markdown",
      "source": [
        "509. Fibonacci Number"
      ],
      "metadata": {
        "id": "ckTFEeQir3rp"
      }
    },
    {
      "cell_type": "code",
      "source": [
        "class Solution:\n",
        "    def fib(self, n: int) -> int:\n",
        "        if n == 0:\n",
        "            return 0\n",
        "        elif n == 1:\n",
        "            return 1\n",
        "\n",
        "        fib_nums = [0, 1]\n",
        "\n",
        "        for i in range(2, n + 1):\n",
        "            fib_nums.append(fib_nums[i - 1] + fib_nums[i - 2])\n",
        "\n",
        "        return fib_nums[n]"
      ],
      "metadata": {
        "id": "aaU0g54Nr8L1"
      },
      "execution_count": null,
      "outputs": []
    },
    {
      "cell_type": "markdown",
      "source": [
        "511. Game Play Analysis I"
      ],
      "metadata": {
        "id": "g9OiZsZmr_7Z"
      }
    },
    {
      "cell_type": "code",
      "source": [
        "SELECT player_id, MIN(event_date) AS first_login\n",
        "FROM Activity\n",
        "GROUP BY player_id;"
      ],
      "metadata": {
        "id": "o_GPHvpIsFAZ"
      },
      "execution_count": null,
      "outputs": []
    },
    {
      "cell_type": "markdown",
      "source": [
        "518. Coin Change II"
      ],
      "metadata": {
        "id": "TKPocM28sG2L"
      }
    },
    {
      "cell_type": "code",
      "source": [
        "from typing import List\n",
        "\n",
        "class Solution:\n",
        "    def change(self, amount: int, coins: List[int]) -> int:\n",
        "        dp = [0] * (amount + 1)\n",
        "        dp[0] = 1\n",
        "        for coin in coins:\n",
        "            for x in range(coin, amount + 1):\n",
        "                dp[x] += dp[x - coin]\n",
        "\n",
        "        return dp[amount]"
      ],
      "metadata": {
        "id": "MdZiDiboskKO"
      },
      "execution_count": null,
      "outputs": []
    },
    {
      "cell_type": "markdown",
      "source": [
        "520. Detect Capital"
      ],
      "metadata": {
        "id": "1ZR8YlgSsoUU"
      }
    },
    {
      "cell_type": "code",
      "source": [
        "class Solution:\n",
        "    def detectCapitalUse(self, word: str) -> bool:\n",
        "        if word.isupper():\n",
        "            return True\n",
        "        if word.islower():\n",
        "            return True\n",
        "        if word[0].isupper() and word[1:].islower():\n",
        "            return True\n",
        "        return False"
      ],
      "metadata": {
        "id": "1zU-vKEcssYs"
      },
      "execution_count": null,
      "outputs": []
    },
    {
      "cell_type": "markdown",
      "source": [
        "521. Longest Uncommon Subsequence I"
      ],
      "metadata": {
        "id": "n1TJXVSoszJY"
      }
    },
    {
      "cell_type": "code",
      "source": [
        "class Solution:\n",
        "    def findLUSlength(self, a: str, b: str) -> int:\n",
        "        if a == b:\n",
        "            return -1\n",
        "        return max(len(a), len(b))"
      ],
      "metadata": {
        "id": "uOivQfxas31a"
      },
      "execution_count": null,
      "outputs": []
    },
    {
      "cell_type": "markdown",
      "source": [
        "522. Longest Uncommon Subsequence II"
      ],
      "metadata": {
        "id": "jVTwOzuZs72n"
      }
    },
    {
      "cell_type": "code",
      "source": [
        "from typing import List\n",
        "\n",
        "class Solution:\n",
        "    def findLUSlength(self, strs: List[str]) -> int:\n",
        "        def is_subsequence(s: str, t: str) -> bool:\n",
        "            it = iter(t)\n",
        "            return all(c in it for c in s)\n",
        "\n",
        "        strs.sort(key=len, reverse=True)\n",
        "        for i, s in enumerate(strs):\n",
        "            if all(not is_subsequence(s, strs[j]) for j in range(len(strs)) if i != j):\n",
        "                return len(s)\n",
        "\n",
        "        return -1\n"
      ],
      "metadata": {
        "id": "jidjdya0tCGf"
      },
      "execution_count": null,
      "outputs": []
    },
    {
      "cell_type": "markdown",
      "source": [
        "530. Minimum Absolute Difference in BST"
      ],
      "metadata": {
        "id": "NZcPrgistGr-"
      }
    },
    {
      "cell_type": "code",
      "source": [
        "from typing import Optional\n",
        "\n",
        "class TreeNode:\n",
        "    def __init__(self, val=0, left=None, right=None):\n",
        "        self.val = val\n",
        "        self.left = left\n",
        "        self.right = right\n",
        "\n",
        "class Solution:\n",
        "    def getMinimumDifference(self, root: Optional[TreeNode]) -> int:\n",
        "        self.prev = -float('inf')\n",
        "        self.min_diff = float('inf')\n",
        "\n",
        "        def in_order_traversal(node: Optional[TreeNode]):\n",
        "            if not node:\n",
        "                return\n",
        "\n",
        "            in_order_traversal(node.left)\n",
        "\n",
        "            self.min_diff = min(self.min_diff, node.val - self.prev)\n",
        "            self.prev = node.val\n",
        "\n",
        "            in_order_traversal(node.right)\n",
        "\n",
        "        in_order_traversal(root)\n",
        "        return self.min_diff"
      ],
      "metadata": {
        "id": "sas5OAVptM00"
      },
      "execution_count": null,
      "outputs": []
    },
    {
      "cell_type": "markdown",
      "source": [
        "541. Reverse String II"
      ],
      "metadata": {
        "id": "gjqHu75_tQk-"
      }
    },
    {
      "cell_type": "code",
      "source": [
        "class Solution:\n",
        "    def reverseStr(self, s: str, k: int) -> str:\n",
        "        s = list(s)\n",
        "        for i in range(0, len(s), 2 * k):\n",
        "            s[i:i+k] = reversed(s[i:i+k])\n",
        "        return ''.join(s)\n"
      ],
      "metadata": {
        "id": "20pRoj-2tU4X"
      },
      "execution_count": null,
      "outputs": []
    },
    {
      "cell_type": "markdown",
      "source": [
        "542. 01 Matrix"
      ],
      "metadata": {
        "id": "eh74DVYyta3b"
      }
    },
    {
      "cell_type": "code",
      "source": [
        "from typing import List\n",
        "from collections import deque\n",
        "\n",
        "class Solution:\n",
        "    def updateMatrix(self, mat: List[List[int]]) -> List[List[int]]:\n",
        "        if not mat or not mat[0]:\n",
        "            return mat\n",
        "\n",
        "        rows, cols = len(mat), len(mat[0])\n",
        "        dist = [[float('inf')] * cols for _ in range(rows)]\n",
        "        queue = deque()\n",
        "\n",
        "        for r in range(rows):\n",
        "            for c in range(cols):\n",
        "                if mat[r][c] == 0:\n",
        "                    dist[r][c] = 0\n",
        "                    queue.append((r, c))\n",
        "\n",
        "        directions = [(1, 0), (-1, 0), (0, 1), (0, -1)]\n",
        "\n",
        "        while queue:\n",
        "            r, c = queue.popleft()\n",
        "\n",
        "            for dr, dc in directions:\n",
        "                nr, nc = r + dr, c + dc\n",
        "\n",
        "                if 0 <= nr < rows and 0 <= nc < cols:\n",
        "                    if dist[nr][nc] > dist[r][c] + 1:\n",
        "                        dist[nr][nc] = dist[r][c] + 1\n",
        "                        queue.append((nr, nc))\n",
        "\n",
        "        return dist"
      ],
      "metadata": {
        "id": "AL_h8RNoteK5"
      },
      "execution_count": null,
      "outputs": []
    },
    {
      "cell_type": "markdown",
      "source": [
        "543. Diameter of Binary Tree"
      ],
      "metadata": {
        "id": "RmH1lDp7tiXm"
      }
    },
    {
      "cell_type": "code",
      "source": [
        "from typing import Optional\n",
        "\n",
        "class TreeNode:\n",
        "    def __init__(self, val=0, left=None, right=None):\n",
        "        self.val = val\n",
        "        self.left = left\n",
        "        self.right = right\n",
        "\n",
        "class Solution:\n",
        "    def diameterOfBinaryTree(self, root: Optional[TreeNode]) -> int:\n",
        "        self.diameter = 0\n",
        "\n",
        "        def longest_path(node: Optional[TreeNode]) -> int:\n",
        "            if not node:\n",
        "                return 0\n",
        "\n",
        "            left_path = longest_path(node.left)\n",
        "            right_path = longest_path(node.right)\n",
        "\n",
        "            self.diameter = max(self.diameter, left_path + right_path)\n",
        "\n",
        "            return max(left_path, right_path) + 1\n",
        "\n",
        "        longest_path(root)\n",
        "        return self.diameter"
      ],
      "metadata": {
        "id": "3Y8MRv8GtmwW"
      },
      "execution_count": null,
      "outputs": []
    },
    {
      "cell_type": "markdown",
      "source": [
        "552. Student Attendeance Record II"
      ],
      "metadata": {
        "id": "YzehFrJGuBMh"
      }
    },
    {
      "cell_type": "code",
      "source": [
        "class Solution:\n",
        "    def checkRecord(self, n: int) -> int:\n",
        "        MOD = 10**9 + 7\n",
        "\n",
        "        dp = [[[0] * 3 for _ in range(2)] for _ in range(n+1)]\n",
        "\n",
        "        dp[0][0][0] = 1\n",
        "\n",
        "        for i in range(1, n+1):\n",
        "            for j in range(2):\n",
        "                for k in range(3):\n",
        "                    dp[i][j][0] = (dp[i][j][0] + dp[i-1][j][k]) % MOD\n",
        "\n",
        "                    if j > 0:\n",
        "                        dp[i][j][0] = (dp[i][j][0] + dp[i-1][j-1][k]) % MOD\n",
        "\n",
        "                    if k > 0:\n",
        "                        dp[i][j][k] = (dp[i][j][k] + dp[i-1][j][k-1]) % MOD\n",
        "\n",
        "        result = 0\n",
        "        for j in range(2):\n",
        "            for k in range(3):\n",
        "                result = (result + dp[n][j][k]) % MOD\n",
        "\n",
        "        return result"
      ],
      "metadata": {
        "id": "ZTWSx1OPuHFz"
      },
      "execution_count": null,
      "outputs": []
    },
    {
      "cell_type": "markdown",
      "source": [
        "557. Reverse Words in a String III"
      ],
      "metadata": {
        "id": "SO0z5_fquOlu"
      }
    },
    {
      "cell_type": "code",
      "source": [
        "class Solution:\n",
        "    def reverseWords(self, s: str) -> str:\n",
        "        words = s.split()\n",
        "\n",
        "        reversed_words = [word[::-1] for word in words]\n",
        "\n",
        "        return ' '.join(reversed_words)"
      ],
      "metadata": {
        "id": "wqej1KWEuS5v"
      },
      "execution_count": null,
      "outputs": []
    },
    {
      "cell_type": "markdown",
      "source": [
        "559. Maximum Depth of N-ary Tree"
      ],
      "metadata": {
        "id": "yPbiBUx5uX26"
      }
    },
    {
      "cell_type": "code",
      "source": [
        "class Node:\n",
        "    def __init__(self, val=None, children=None):\n",
        "        self.val = val\n",
        "        self.children = children\n",
        "\n",
        "class Solution:\n",
        "    def maxDepth(self, root: 'Node') -> int:\n",
        "        if not root:\n",
        "            return 0\n",
        "        if not root.children:\n",
        "            return 1\n",
        "        return 1 + max(self.maxDepth(child) for child in root.children)"
      ],
      "metadata": {
        "id": "0PYkJP4jucyy"
      },
      "execution_count": null,
      "outputs": []
    },
    {
      "cell_type": "markdown",
      "source": [
        "561. Array Partition"
      ],
      "metadata": {
        "id": "ZbG3-La4ugJB"
      }
    },
    {
      "cell_type": "code",
      "source": [
        "from typing import List\n",
        "\n",
        "class Solution:\n",
        "    def arrayPairSum(self, nums: List[int]) -> int:\n",
        "        nums.sort()\n",
        "        return sum(nums[::2])"
      ],
      "metadata": {
        "id": "PDS5hOLOulyI"
      },
      "execution_count": null,
      "outputs": []
    },
    {
      "cell_type": "markdown",
      "source": [
        "563. Binary Tree Tilt"
      ],
      "metadata": {
        "id": "Y-UyV9lzuvQX"
      }
    },
    {
      "cell_type": "code",
      "source": [
        "class TreeNode:\n",
        "    def __init__(self, val=0, left=None, right=None):\n",
        "        self.val = val\n",
        "        self.left = left\n",
        "        self.right = right\n",
        "\n",
        "class Solution:\n",
        "    def findTilt(self, root: TreeNode) -> int:\n",
        "        self.total_tilt = 0\n",
        "\n",
        "        def sum_and_tilt(node: TreeNode) -> int:\n",
        "            if not node:\n",
        "                return 0\n",
        "            left_sum = sum_and_tilt(node.left)\n",
        "            right_sum = sum_and_tilt(node.right)\n",
        "            self.total_tilt += abs(left_sum - right_sum)\n",
        "            return node.val + left_sum + right_sum\n",
        "\n",
        "        sum_and_tilt(root)\n",
        "        return self.total_tilt"
      ],
      "metadata": {
        "id": "b4g1q1lDuz2q"
      },
      "execution_count": null,
      "outputs": []
    },
    {
      "cell_type": "markdown",
      "source": [
        "565. Array Nesting"
      ],
      "metadata": {
        "id": "cP1bOiSKu5S6"
      }
    },
    {
      "cell_type": "code",
      "source": [
        "from typing import List\n",
        "\n",
        "class Solution:\n",
        "    def arrayNesting(self, nums: List[int]) -> int:\n",
        "        visited = [False] * len(nums)\n",
        "        max_size = 0\n",
        "\n",
        "        for i in range(len(nums)):\n",
        "            if not visited[i]:\n",
        "                start = nums[i]\n",
        "                count = 0\n",
        "                while not visited[start]:\n",
        "                    visited[start] = True\n",
        "                    start = nums[start]\n",
        "                    count += 1\n",
        "                max_size = max(max_size, count)\n",
        "\n",
        "        return max_size"
      ],
      "metadata": {
        "id": "jinTW3bsu4Ee"
      },
      "execution_count": null,
      "outputs": []
    },
    {
      "cell_type": "markdown",
      "source": [
        "566. Reshape the Matrix"
      ],
      "metadata": {
        "id": "aaQiIU2Cu_hQ"
      }
    },
    {
      "cell_type": "code",
      "source": [
        "from typing import List\n",
        "\n",
        "class Solution:\n",
        "    def matrixReshape(self, mat: List[List[int]], r: int, c: int) -> List[List[int]]:\n",
        "        m, n = len(mat), len(mat[0])\n",
        "\n",
        "        if m * n != r * c:\n",
        "            return mat\n",
        "\n",
        "        flat = []\n",
        "        for row in mat:\n",
        "            for num in row:\n",
        "                flat.append(num)\n",
        "\n",
        "        reshaped = []\n",
        "        for i in range(r):\n",
        "            row = []\n",
        "            for j in range(c):\n",
        "                row.append(flat[i * c + j])\n",
        "            reshaped.append(row)\n",
        "\n",
        "        return reshaped"
      ],
      "metadata": {
        "id": "NN9gKliRvEMN"
      },
      "execution_count": null,
      "outputs": []
    },
    {
      "cell_type": "markdown",
      "source": [
        "567. Permutation in String"
      ],
      "metadata": {
        "id": "bxsyibvSvIJW"
      }
    },
    {
      "cell_type": "code",
      "source": [
        "from collections import Counter\n",
        "\n",
        "class Solution:\n",
        "    def checkInclusion(self, s1: str, s2: str) -> bool:\n",
        "        len_s1 = len(s1)\n",
        "        len_s2 = len(s2)\n",
        "\n",
        "        if len_s1 > len_s2:\n",
        "            return False\n",
        "\n",
        "        s1_count = Counter(s1)\n",
        "        window_count = Counter()\n",
        "\n",
        "        for i in range(len_s2):\n",
        "            window_count[s2[i]] += 1\n",
        "\n",
        "            if i >= len_s1:\n",
        "                if window_count[s2[i - len_s1]] == 1:\n",
        "                    del window_count[s2[i - len_s1]]\n",
        "                else:\n",
        "                    window_count[s2[i - len_s1]] -= 1\n",
        "\n",
        "            if window_count == s1_count:\n",
        "                return True\n",
        "\n",
        "        return False"
      ],
      "metadata": {
        "id": "lhcYOWh1vMqH"
      },
      "execution_count": null,
      "outputs": []
    },
    {
      "cell_type": "markdown",
      "source": [
        "583. Delete Operation for Two Strings"
      ],
      "metadata": {
        "id": "7J5jL8hDvPEJ"
      }
    },
    {
      "cell_type": "code",
      "source": [
        "class Solution:\n",
        "    def minDistance(self, word1: str, word2: str) -> int:\n",
        "        m, n = len(word1), len(word2)\n",
        "\n",
        "        dp = [[0] * (n + 1) for _ in range(m + 1)]\n",
        "\n",
        "        for i in range(1, m + 1):\n",
        "            for j in range(1, n + 1):\n",
        "                if word1[i - 1] == word2[j - 1]:\n",
        "                    dp[i][j] = dp[i - 1][j - 1] + 1\n",
        "                else:\n",
        "                    dp[i][j] = max(dp[i - 1][j], dp[i][j - 1])\n",
        "\n",
        "        lcs = dp[m][n]\n",
        "\n",
        "        return (m - lcs) + (n - lcs)"
      ],
      "metadata": {
        "id": "HT08x1G9vVd6"
      },
      "execution_count": null,
      "outputs": []
    },
    {
      "cell_type": "markdown",
      "source": [
        "594. Longest Harmonious Subsequence"
      ],
      "metadata": {
        "id": "VyCkLuUNvty_"
      }
    },
    {
      "cell_type": "code",
      "source": [
        "from typing import List\n",
        "from collections import Counter\n",
        "\n",
        "class Solution:\n",
        "    def findLHS(self, nums: List[int]) -> int:\n",
        "        count = Counter(nums)\n",
        "        max_length = 0\n",
        "\n",
        "        for num in count:\n",
        "            if num + 1 in count:\n",
        "                max_length = max(max_length, count[num] + count[num + 1])\n",
        "\n",
        "        return max_length"
      ],
      "metadata": {
        "id": "kVZfN15OvxrL"
      },
      "execution_count": null,
      "outputs": []
    },
    {
      "cell_type": "markdown",
      "source": [
        "598. Range Addition II"
      ],
      "metadata": {
        "id": "0R_ni4xWvza8"
      }
    },
    {
      "cell_type": "code",
      "source": [
        "from typing import List\n",
        "\n",
        "class Solution:\n",
        "    def maxCount(self, m: int, n: int, ops: List[List[int]]) -> int:\n",
        "        if not ops:\n",
        "            return m * n\n",
        "\n",
        "        min_row = m\n",
        "        min_col = n\n",
        "\n",
        "        for op in ops:\n",
        "            min_row = min(min_row, op[0])\n",
        "            min_col = min(min_col, op[1])\n",
        "\n",
        "        return min_row * min_col"
      ],
      "metadata": {
        "id": "LH1545Ffv3pl"
      },
      "execution_count": null,
      "outputs": []
    },
    {
      "cell_type": "markdown",
      "source": [
        "599. Minimum Index Sum of Two Lists"
      ],
      "metadata": {
        "id": "RTXublukv5n-"
      }
    },
    {
      "cell_type": "code",
      "source": [
        "from typing import List\n",
        "\n",
        "class Solution:\n",
        "    def findRestaurant(self, list1: List[str], list2: List[str]) -> List[str]:\n",
        "        index_map = {restaurant: index for index, restaurant in enumerate(list1)}\n",
        "        min_sum = float('inf')\n",
        "        result = []\n",
        "\n",
        "        for index2, restaurant in enumerate(list2):\n",
        "            if restaurant in index_map:\n",
        "                index_sum = index2 + index_map[restaurant]\n",
        "                if index_sum < min_sum:\n",
        "                    min_sum = index_sum\n",
        "                    result = [restaurant]\n",
        "                elif index_sum == min_sum:\n",
        "                    result.append(restaurant)\n",
        "\n",
        "        return result"
      ],
      "metadata": {
        "id": "tMb_lYibwGCH"
      },
      "execution_count": null,
      "outputs": []
    },
    {
      "cell_type": "markdown",
      "source": [
        "611. Valid Triangle Number"
      ],
      "metadata": {
        "id": "Ax51H138wHPu"
      }
    },
    {
      "cell_type": "code",
      "source": [
        "from typing import List\n",
        "\n",
        "class Solution:\n",
        "    def triangleNumber(self, nums: List[int]) -> int:\n",
        "        nums.sort()\n",
        "        count = 0\n",
        "\n",
        "        for i in range(len(nums) - 1, 1, -1):\n",
        "            left, right = 0, i - 1\n",
        "            while left < right:\n",
        "                if nums[left] + nums[right] > nums[i]:\n",
        "                    count += right - left\n",
        "                    right -= 1\n",
        "                else:\n",
        "                    left += 1\n",
        "\n",
        "        return count"
      ],
      "metadata": {
        "id": "C6BpLQM-wNsN"
      },
      "execution_count": null,
      "outputs": []
    },
    {
      "cell_type": "markdown",
      "source": [
        "617. Merge Two Binary Trees"
      ],
      "metadata": {
        "id": "3XsneZCRwP3Y"
      }
    },
    {
      "cell_type": "code",
      "source": [
        "class Solution:\n",
        "    def mergeTrees(self, root1: Optional[TreeNode], root2: Optional[TreeNode]) -> Optional[TreeNode]:\n",
        "        if not root1 and not root2:\n",
        "            return None\n",
        "\n",
        "        if not root1:\n",
        "            return root2\n",
        "        if not root2:\n",
        "            return root1\n",
        "\n",
        "        merged = TreeNode(root1.val + root2.val)\n",
        "        merged.left = self.mergeTrees(root1.left, root2.left)\n",
        "        merged.right = self.mergeTrees(root1.right, root2.right)\n",
        "\n",
        "        return merged\n"
      ],
      "metadata": {
        "id": "mqApzNr4wUW3"
      },
      "execution_count": null,
      "outputs": []
    },
    {
      "cell_type": "markdown",
      "source": [
        "621. Task Scheduler"
      ],
      "metadata": {
        "id": "TnjvPBPUwvL3"
      }
    },
    {
      "cell_type": "code",
      "source": [
        "from collections import Counter\n",
        "import heapq\n",
        "\n",
        "class Solution:\n",
        "    def leastInterval(self, tasks: List[str], n: int) -> int:\n",
        "        if n == 0:\n",
        "            return len(tasks)\n",
        "\n",
        "        task_counts = Counter(tasks)\n",
        "        max_heap = [-count for count in task_counts.values()]\n",
        "        heapq.heapify(max_heap)\n",
        "\n",
        "        time = 0\n",
        "        while max_heap:\n",
        "            i = 0\n",
        "            temp = []\n",
        "            while i <= n:\n",
        "                if max_heap:\n",
        "                    count = heapq.heappop(max_heap)\n",
        "                    if count < -1:\n",
        "                        temp.append(count + 1)\n",
        "                time += 1\n",
        "                if not max_heap and not temp:\n",
        "                    break\n",
        "                i += 1\n",
        "            for item in temp:\n",
        "                heapq.heappush(max_heap, item)\n",
        "\n",
        "        return time"
      ],
      "metadata": {
        "id": "d__vZZdawzHQ"
      },
      "execution_count": null,
      "outputs": []
    },
    {
      "cell_type": "markdown",
      "source": [
        "623. Add one Row to Tree"
      ],
      "metadata": {
        "id": "k8YqNwdfw2FX"
      }
    },
    {
      "cell_type": "code",
      "source": [
        "class Solution:\n",
        "    def addOneRow(self, root: Optional[TreeNode], val: int, depth: int) -> Optional[TreeNode]:\n",
        "        if depth == 1:\n",
        "            new_root = TreeNode(val)\n",
        "            new_root.left = root\n",
        "            return new_root\n",
        "\n",
        "        queue = [(root, 1)]\n",
        "\n",
        "        while queue:\n",
        "            node, current_depth = queue.pop(0)\n",
        "\n",
        "            if current_depth == depth - 1:\n",
        "                old_left = node.left\n",
        "                old_right = node.right\n",
        "                node.left = TreeNode(val)\n",
        "                node.left.left = old_left\n",
        "                node.right = TreeNode(val)\n",
        "                node.right.right = old_right\n",
        "            else:\n",
        "                if node.left:\n",
        "                    queue.append((node.left, current_depth + 1))\n",
        "                if node.right:\n",
        "                    queue.append((node.right, current_depth + 1))\n",
        "\n",
        "        return root\n"
      ],
      "metadata": {
        "id": "e1jGDzfxw7k9"
      },
      "execution_count": null,
      "outputs": []
    },
    {
      "cell_type": "markdown",
      "source": [
        "628. Maximum Product of Three Numbers"
      ],
      "metadata": {
        "id": "Af24Qpp6w__u"
      }
    },
    {
      "cell_type": "code",
      "source": [
        "class Solution:\n",
        "    def maximumProduct(self, nums: List[int]) -> int:\n",
        "        min1 = min2 = float('inf')\n",
        "        max1 = max2 = max3 = float('-inf')\n",
        "\n",
        "        for num in nums:\n",
        "            if num <= min1:\n",
        "                min2 = min1\n",
        "                min1 = num\n",
        "            elif num <= min2:\n",
        "                min2 = num\n",
        "\n",
        "            if num >= max1:\n",
        "                max3 = max2\n",
        "                max2 = max1\n",
        "                max1 = num\n",
        "            elif num >= max2:\n",
        "                max3 = max2\n",
        "                max2 = num\n",
        "            elif num >= max3:\n",
        "                max3 = num\n",
        "\n",
        "        return max(min1 * min2 * max1, max1 * max2 * max3)"
      ],
      "metadata": {
        "id": "5RlL1pE9xJ8n"
      },
      "execution_count": null,
      "outputs": []
    },
    {
      "cell_type": "markdown",
      "source": [
        "637. Average of Levels in Binary Tree"
      ],
      "metadata": {
        "id": "mFLp2_JqXoMg"
      }
    },
    {
      "cell_type": "code",
      "source": [
        "class Solution:\n",
        "    def averageOfLevels(self, root: Optional[TreeNode]) -> List[float]:\n",
        "        if not root:\n",
        "            return []\n",
        "\n",
        "        queue = [root]\n",
        "        averages = []\n",
        "\n",
        "        while queue:\n",
        "            level_sum = 0\n",
        "            level_count = len(queue)\n",
        "\n",
        "            for _ in range(level_count):\n",
        "                node = queue.pop(0)\n",
        "                level_sum += node.val\n",
        "\n",
        "                if node.left:\n",
        "                    queue.append(node.left)\n",
        "                if node.right:\n",
        "                    queue.append(node.right)\n",
        "\n",
        "            averages.append(level_sum / level_count)\n",
        "\n",
        "        return averages\n"
      ],
      "metadata": {
        "id": "Bz0enun-XrtR"
      },
      "execution_count": null,
      "outputs": []
    },
    {
      "cell_type": "markdown",
      "source": [
        "638. Shopping Offers"
      ],
      "metadata": {
        "id": "P5v00w4XXu7u"
      }
    },
    {
      "cell_type": "code",
      "source": [
        "class Solution:\n",
        "    def shoppingOffers(self, price: List[int], special: List[List[int]], needs: List[int]) -> int:\n",
        "        def dfs(needs, memo):\n",
        "            if tuple(needs) in memo:\n",
        "                return memo[tuple(needs)]\n",
        "\n",
        "            total_cost = sum(needs[i] * price[i] for i in range(len(needs)))\n",
        "            for offer in special:\n",
        "                new_needs = []\n",
        "                for i in range(len(needs)):\n",
        "                    if needs[i] < offer[i]:\n",
        "                        break\n",
        "                    new_needs.append(needs[i] - offer[i])\n",
        "                else:\n",
        "                    total_cost = min(total_cost, offer[-1] + dfs(new_needs, memo))\n",
        "\n",
        "            memo[tuple(needs)] = total_cost\n",
        "            return total_cost\n",
        "\n",
        "        memo = {}\n",
        "        return dfs(needs, memo)\n"
      ],
      "metadata": {
        "id": "rReZHdIwXy_F"
      },
      "execution_count": null,
      "outputs": []
    },
    {
      "cell_type": "markdown",
      "source": [
        "640. Solve the Equation"
      ],
      "metadata": {
        "id": "-Nw1G5mgX4Wu"
      }
    },
    {
      "cell_type": "code",
      "source": [
        "class Solution:\n",
        "    def solveEquation(self, equation: str) -> str:\n",
        "        def parse_expression(expr):\n",
        "            coeff = 0\n",
        "            const = 0\n",
        "            num = 0\n",
        "            sign = 1\n",
        "            n = len(expr)\n",
        "            i = 0\n",
        "\n",
        "            while i < n:\n",
        "                if expr[i] == '+':\n",
        "                    sign = 1\n",
        "                    i += 1\n",
        "                elif expr[i] == '-':\n",
        "                    sign = -1\n",
        "                    i += 1\n",
        "                elif expr[i].isdigit():\n",
        "                    num = 0\n",
        "                    while i < n and expr[i].isdigit():\n",
        "                        num = num * 10 + int(expr[i])\n",
        "                        i += 1\n",
        "                    if i < n and expr[i] == 'x':\n",
        "                        coeff += sign * num\n",
        "                        i += 1\n",
        "                    else:\n",
        "                        const += sign * num\n",
        "                elif expr[i] == 'x':\n",
        "                    coeff += sign * 1\n",
        "                    i += 1\n",
        "\n",
        "            return coeff, const\n",
        "\n",
        "        left_expr, right_expr = equation.split('=')\n",
        "        left_coeff, left_const = parse_expression(left_expr)\n",
        "        right_coeff, right_const = parse_expression(right_expr)\n",
        "\n",
        "        coeff = left_coeff - right_coeff\n",
        "        const = right_const - left_const\n",
        "\n",
        "        if coeff == 0:\n",
        "            if const == 0:\n",
        "                return \"Infinite solutions\"\n",
        "            else:\n",
        "                return \"No solution\"\n",
        "        else:\n",
        "            return f\"x={const // coeff}\""
      ],
      "metadata": {
        "id": "_Nb8BUAmX7p9"
      },
      "execution_count": null,
      "outputs": []
    },
    {
      "cell_type": "markdown",
      "source": [
        "643. Maximum Average Subarray I"
      ],
      "metadata": {
        "id": "mO-TsOKKX94b"
      }
    },
    {
      "cell_type": "code",
      "source": [
        "class Solution:\n",
        "    def findMaxAverage(self, nums: List[int], k: int) -> float:\n",
        "        window_sum = sum(nums[:k])\n",
        "        max_sum = window_sum\n",
        "\n",
        "        for i in range(k, len(nums)):\n",
        "            window_sum += nums[i] - nums[i - k]\n",
        "            max_sum = max(max_sum, window_sum)\n",
        "\n",
        "        return max_sum / k\n"
      ],
      "metadata": {
        "id": "LYiIk-VWYFBF"
      },
      "execution_count": null,
      "outputs": []
    },
    {
      "cell_type": "markdown",
      "source": [
        "645. Set Mismatch"
      ],
      "metadata": {
        "id": "3QGmymL5YK5h"
      }
    },
    {
      "cell_type": "code",
      "source": [
        "class Solution:\n",
        "    def findErrorNums(self, nums: List[int]) -> List[int]:\n",
        "        n = len(nums)\n",
        "        duplicate = -1\n",
        "        missing = -1\n",
        "        num_count = [0] * (n + 1)\n",
        "\n",
        "        for num in nums:\n",
        "            num_count[num] += 1\n",
        "\n",
        "        for i in range(1, n + 1):\n",
        "            if num_count[i] == 2:\n",
        "                duplicate = i\n",
        "            elif num_count[i] == 0:\n",
        "                missing = i\n",
        "\n",
        "        return [duplicate, missing]\n"
      ],
      "metadata": {
        "id": "Gs0e6UM6YOuX"
      },
      "execution_count": null,
      "outputs": []
    },
    {
      "cell_type": "markdown",
      "source": [
        "646. Maximum Length of Pair Chain"
      ],
      "metadata": {
        "id": "Vf9r4f9rYSGM"
      }
    },
    {
      "cell_type": "code",
      "source": [
        "from typing import List\n",
        "\n",
        "class Solution:\n",
        "    def findLongestChain(self, pairs: List[List[int]]) -> int:\n",
        "        pairs.sort(key=lambda x: x[1])\n",
        "\n",
        "        current_end = float('-inf')\n",
        "        chain_length = 0\n",
        "\n",
        "        for pair in pairs:\n",
        "            if current_end < pair[0]:\n",
        "                current_end = pair[1]\n",
        "                chain_length += 1\n",
        "\n",
        "        return chain_length\n"
      ],
      "metadata": {
        "id": "7rrOPAPUY1R5"
      },
      "execution_count": null,
      "outputs": []
    },
    {
      "cell_type": "markdown",
      "source": [
        "650. 2 Keys Keyboard"
      ],
      "metadata": {
        "id": "8CKxHkb5Y-nM"
      }
    },
    {
      "cell_type": "code",
      "source": [
        "class Solution:\n",
        "    def minSteps(self, n: int) -> int:\n",
        "        steps = 0\n",
        "        factor = 2\n",
        "        while n > 1:\n",
        "            while n % factor == 0:\n",
        "                steps += factor\n",
        "                n //= factor\n",
        "            factor += 1\n",
        "        return steps"
      ],
      "metadata": {
        "id": "e8vBmxOOZDpb"
      },
      "execution_count": null,
      "outputs": []
    },
    {
      "cell_type": "markdown",
      "source": [
        "652. Find Duplicate Subtrees"
      ],
      "metadata": {
        "id": "fBbxJ5bxZHsP"
      }
    },
    {
      "cell_type": "code",
      "source": [
        "class Solution:\n",
        "    def findDuplicateSubtrees(self, root: Optional[TreeNode]) -> List[Optional[TreeNode]]:\n",
        "        from collections import defaultdict\n",
        "\n",
        "        def serialize(node, lookup):\n",
        "            if not node:\n",
        "                return \"#\"\n",
        "\n",
        "            serial = \"{},{},{}\".format(node.val, serialize(node.left, lookup), serialize(node.right, lookup))\n",
        "            lookup[serial].append(node)\n",
        "            return serial\n",
        "\n",
        "        lookup = defaultdict(list)\n",
        "        serialize(root, lookup)\n",
        "\n",
        "        return [nodes[0] for nodes in lookup.values() if len(nodes) > 1]\n"
      ],
      "metadata": {
        "id": "hQHA26O9ZOHi"
      },
      "execution_count": null,
      "outputs": []
    },
    {
      "cell_type": "markdown",
      "source": [
        "653. Two Sum IV - Input is a BST"
      ],
      "metadata": {
        "id": "LSkg0RbgZRdL"
      }
    },
    {
      "cell_type": "code",
      "source": [
        "class Solution:\n",
        "    def findTarget(self, root: Optional[TreeNode], k: int) -> bool:\n",
        "        def dfs(node, seen):\n",
        "            if not node:\n",
        "                return False\n",
        "            if k - node.val in seen:\n",
        "                return True\n",
        "            seen.add(node.val)\n",
        "            return dfs(node.left, seen) or dfs(node.right, seen)\n",
        "\n",
        "        return dfs(root, set())\n"
      ],
      "metadata": {
        "id": "pJXZlk1kZWAK"
      },
      "execution_count": null,
      "outputs": []
    },
    {
      "cell_type": "markdown",
      "source": [
        "657. Robot Return to Origin"
      ],
      "metadata": {
        "id": "SVljxKL4ZX2Y"
      }
    },
    {
      "cell_type": "code",
      "source": [
        "class Solution:\n",
        "    def judgeCircle(self, moves: str) -> bool:\n",
        "        vertical = 0\n",
        "        horizontal = 0\n",
        "\n",
        "        for move in moves:\n",
        "            if move == 'U':\n",
        "                vertical += 1\n",
        "            elif move == 'D':\n",
        "                vertical -= 1\n",
        "            elif move == 'L':\n",
        "                horizontal -= 1\n",
        "            elif move == 'R':\n",
        "                horizontal += 1\n",
        "\n",
        "        return vertical == 0 and horizontal == 0\n"
      ],
      "metadata": {
        "id": "nub7JiPzZcrV"
      },
      "execution_count": null,
      "outputs": []
    },
    {
      "cell_type": "markdown",
      "source": [
        "671. Second Minimum Node In a Binary Tree"
      ],
      "metadata": {
        "id": "DLh-4tdPZjYk"
      }
    },
    {
      "cell_type": "code",
      "source": [
        "from typing import Optional\n",
        "\n",
        "class Solution:\n",
        "    def findSecondMinimumValue(self, root: Optional[TreeNode]) -> int:\n",
        "\n",
        "        if not root:\n",
        "            return -1\n",
        "\n",
        "        self.second_min = float('inf')\n",
        "        self.first_min = root.val\n",
        "\n",
        "        def dfs(node: Optional[TreeNode]):\n",
        "            if not node:\n",
        "                return\n",
        "            if self.first_min < node.val < self.second_min:\n",
        "                self.second_min = node.val\n",
        "            elif node.val == self.first_min:\n",
        "                dfs(node.left)\n",
        "                dfs(node.right)\n",
        "\n",
        "        dfs(root)\n",
        "\n",
        "        return self.second_min if self.second_min < float('inf') else -1\n"
      ],
      "metadata": {
        "id": "sy3prTklZpwh"
      },
      "execution_count": null,
      "outputs": []
    },
    {
      "cell_type": "markdown",
      "source": [
        "672. Bulb Switcher II"
      ],
      "metadata": {
        "id": "QEWA7qXwZwWv"
      }
    },
    {
      "cell_type": "code",
      "source": [
        "class Solution:\n",
        "    def flipLights(self, n: int, presses: int) -> int:\n",
        "        if presses == 0:\n",
        "            return 1\n",
        "        if n == 1:\n",
        "            return 2\n",
        "        if n == 2:\n",
        "            return 3 if presses == 1 else 4\n",
        "        if presses == 1:\n",
        "            return 4\n",
        "        if presses == 2:\n",
        "            return 7\n",
        "        return 8\n"
      ],
      "metadata": {
        "id": "SMxrknGjZ0_W"
      },
      "execution_count": null,
      "outputs": []
    },
    {
      "cell_type": "markdown",
      "source": [
        "676. Implement Magic Dictionary"
      ],
      "metadata": {
        "id": "lMqRuMbzZ36R"
      }
    },
    {
      "cell_type": "code",
      "source": [
        "from typing import List\n",
        "\n",
        "class MagicDictionary:\n",
        "\n",
        "    def __init__(self):\n",
        "        self.words_set = set()\n",
        "\n",
        "    def buildDict(self, dictionary: List[str]) -> None:\n",
        "        self.words_set = set(dictionary)\n",
        "\n",
        "    def search(self, searchWord: str) -> bool:\n",
        "        for word in self.words_set:\n",
        "            if len(word) != len(searchWord):\n",
        "                continue\n",
        "            count_diff = 0\n",
        "            for w, s in zip(word, searchWord):\n",
        "                if w != s:\n",
        "                    count_diff += 1\n",
        "                if count_diff > 1:\n",
        "                    break\n",
        "            if count_diff == 1:\n",
        "                return True\n",
        "        return False\n"
      ],
      "metadata": {
        "id": "Ij7wN2BdZ8JH"
      },
      "execution_count": null,
      "outputs": []
    },
    {
      "cell_type": "markdown",
      "source": [
        "677. Map Sum Pairs"
      ],
      "metadata": {
        "id": "sQmUB9tVaA_N"
      }
    },
    {
      "cell_type": "code",
      "source": [
        "class MapSum:\n",
        "\n",
        "    def __init__(self):\n",
        "        self.map = {}\n",
        "\n",
        "    def insert(self, key: str, val: int) -> None:\n",
        "        self.map[key] = val\n",
        "\n",
        "    def sum(self, prefix: str) -> int:\n",
        "        total = 0\n",
        "        for key in self.map:\n",
        "            if key.startswith(prefix):\n",
        "                total += self.map[key]\n",
        "        return total\n"
      ],
      "metadata": {
        "id": "3hX_56ALaEXj"
      },
      "execution_count": null,
      "outputs": []
    },
    {
      "cell_type": "markdown",
      "source": [
        "680. Valid Palindrome II"
      ],
      "metadata": {
        "id": "7Zj4phrwaIB2"
      }
    },
    {
      "cell_type": "code",
      "source": [
        "class Solution:\n",
        "    def validPalindrome(self, s: str) -> bool:\n",
        "        def isPalindromeRange(i, j):\n",
        "            return all(s[k] == s[j - k + i] for k in range(i, j))\n",
        "\n",
        "        left, right = 0, len(s) - 1\n",
        "\n",
        "        while left < right:\n",
        "            if s[left] != s[right]:\n",
        "                return isPalindromeRange(left + 1, right) or isPalindromeRange(left, right - 1)\n",
        "            left += 1\n",
        "            right -= 1\n",
        "\n",
        "        return True"
      ],
      "metadata": {
        "id": "k-U_0hwFaMDc"
      },
      "execution_count": null,
      "outputs": []
    },
    {
      "cell_type": "markdown",
      "source": [
        "682. Baseball Game"
      ],
      "metadata": {
        "id": "P8Th8267aQfw"
      }
    },
    {
      "cell_type": "code",
      "source": [
        "from typing import List\n",
        "\n",
        "class Solution:\n",
        "    def calPoints(self, operations: List[str]) -> int:\n",
        "        stack = []\n",
        "\n",
        "        for op in operations:\n",
        "            if op == \"+\":\n",
        "                stack.append(stack[-1] + stack[-2])\n",
        "            elif op == \"D\":\n",
        "                stack.append(2 * stack[-1])\n",
        "            elif op == \"C\":\n",
        "                stack.pop()\n",
        "            else:\n",
        "                stack.append(int(op))\n",
        "\n",
        "        return sum(stack)"
      ],
      "metadata": {
        "id": "e20M83ESaXfM"
      },
      "execution_count": null,
      "outputs": []
    },
    {
      "cell_type": "markdown",
      "source": [
        "686. Repeated String Match"
      ],
      "metadata": {
        "id": "Zcm2gzKtaaQn"
      }
    },
    {
      "cell_type": "code",
      "source": [
        "class Solution:\n",
        "    def repeatedStringMatch(self, a: str, b: str) -> int:\n",
        "        min_repeats = len(b) // len(a)\n",
        "\n",
        "        if b in a * min_repeats:\n",
        "            return min_repeats\n",
        "\n",
        "        if b in a * (min_repeats + 1):\n",
        "            return min_repeats + 1\n",
        "\n",
        "        if b in a * (min_repeats + 2):\n",
        "            return min_repeats + 2\n",
        "\n",
        "        return -1\n"
      ],
      "metadata": {
        "id": "Pq_gkJFTahMl"
      },
      "execution_count": null,
      "outputs": []
    },
    {
      "cell_type": "markdown",
      "source": [
        "693. Binary Number with Alternationg Bits"
      ],
      "metadata": {
        "id": "7HXEfaxbaneV"
      }
    },
    {
      "cell_type": "code",
      "source": [
        "class Solution:\n",
        "    def hasAlternatingBits(self, n: int) -> bool:\n",
        "        last_bit = n & 1\n",
        "        n >>= 1\n",
        "\n",
        "        while n > 0:\n",
        "            current_bit = n & 1\n",
        "            if current_bit == last_bit:\n",
        "                return False\n",
        "            last_bit = current_bit\n",
        "            n >>= 1\n",
        "        return True\n"
      ],
      "metadata": {
        "id": "NrTYmHztawoK"
      },
      "execution_count": null,
      "outputs": []
    },
    {
      "cell_type": "markdown",
      "source": [
        "695. Max Area of Island"
      ],
      "metadata": {
        "id": "AzG3iwFya6Mf"
      }
    },
    {
      "cell_type": "code",
      "source": [
        "from typing import List\n",
        "\n",
        "class Solution:\n",
        "    def maxAreaOfIsland(self, grid: List[List[int]]) -> int:\n",
        "        def dfs(x, y):\n",
        "            if x < 0 or x >= len(grid) or y < 0 or y >= len(grid[0]) or grid[x][y] == 0:\n",
        "                return 0\n",
        "            grid[x][y] = 0\n",
        "            area = 1\n",
        "            area += dfs(x + 1, y)\n",
        "            area += dfs(x - 1, y)\n",
        "            area += dfs(x, y + 1)\n",
        "            area += dfs(x, y - 1)\n",
        "            return area\n",
        "\n",
        "        max_area = 0\n",
        "        for i in range(len(grid)):\n",
        "            for j in range(len(grid[0])):\n",
        "                if grid[i][j] == 1:\n",
        "                    max_area = max(max_area, dfs(i, j))\n",
        "\n",
        "        return max_area\n"
      ],
      "metadata": {
        "id": "KPQHaYwZa_wT"
      },
      "execution_count": null,
      "outputs": []
    },
    {
      "cell_type": "markdown",
      "source": [
        "700. Search in a Binary Search Tree"
      ],
      "metadata": {
        "id": "tHrSV7fMbJJ1"
      }
    },
    {
      "cell_type": "code",
      "source": [
        "class Solution:\n",
        "    def searchBST(self, root: Optional[TreeNode], val: int) -> Optional[TreeNode]:\n",
        "        if root is None or root.val == val:\n",
        "            return root\n",
        "        elif val < root.val:\n",
        "            return self.searchBST(root.left, val)\n",
        "        else:\n",
        "            return self.searchBST(root.right, val)\n"
      ],
      "metadata": {
        "id": "Kmne0j2fbSxg"
      },
      "execution_count": null,
      "outputs": []
    },
    {
      "cell_type": "markdown",
      "source": [
        "701. Insert into a Binary Search Tree"
      ],
      "metadata": {
        "id": "eKzj3s_ZbWni"
      }
    },
    {
      "cell_type": "code",
      "source": [
        "class Solution:\n",
        "    def insertIntoBST(self, root: Optional[TreeNode], val: int) -> Optional[TreeNode]:\n",
        "        if root is None:\n",
        "            return TreeNode(val)\n",
        "\n",
        "        if val < root.val:\n",
        "            if root.left is None:\n",
        "                root.left = TreeNode(val)\n",
        "            else:\n",
        "                self.insertIntoBST(root.left, val)\n",
        "        else:\n",
        "            if root.right is None:\n",
        "                root.right = TreeNode(val)\n",
        "            else:\n",
        "                self.insertIntoBST(root.right, val)\n",
        "\n",
        "        return root\n"
      ],
      "metadata": {
        "id": "80ig1VXXbeNe"
      },
      "execution_count": null,
      "outputs": []
    },
    {
      "cell_type": "markdown",
      "source": [
        "703. Kth Largest Element in a Stream"
      ],
      "metadata": {
        "id": "r7Exkm3ubgSU"
      }
    },
    {
      "cell_type": "code",
      "source": [
        "from typing import List\n",
        "import heapq\n",
        "\n",
        "class KthLargest:\n",
        "\n",
        "    def __init__(self, k: int, nums: List[int]):\n",
        "        self.k = k\n",
        "        self.min_heap = nums\n",
        "        heapq.heapify(self.min_heap)\n",
        "        while len(self.min_heap) > k:\n",
        "            heapq.heappop(self.min_heap)\n",
        "\n",
        "    def add(self, val: int) -> int:\n",
        "        if len(self.min_heap) < self.k:\n",
        "            heapq.heappush(self.min_heap, val)\n",
        "        elif val > self.min_heap[0]:\n",
        "            heapq.heappushpop(self.min_heap, val)\n",
        "        return self.min_heap[0]"
      ],
      "metadata": {
        "id": "U5OZsVPn1vNw"
      },
      "execution_count": null,
      "outputs": []
    },
    {
      "cell_type": "markdown",
      "source": [
        "704. Binary Search"
      ],
      "metadata": {
        "id": "xc7tSnzQ1xf6"
      }
    },
    {
      "cell_type": "code",
      "source": [
        "from typing import List\n",
        "\n",
        "class Solution:\n",
        "    def search(self, nums: List[int], target: int) -> int:\n",
        "        left, right = 0, len(nums) - 1\n",
        "\n",
        "        while left <= right:\n",
        "            mid = (left + right) // 2\n",
        "            if nums[mid] == target:\n",
        "                return mid\n",
        "            elif nums[mid] < target:\n",
        "                left = mid + 1\n",
        "            else:\n",
        "                right = mid - 1\n",
        "\n",
        "        return -1"
      ],
      "metadata": {
        "id": "uq_muEo_11TZ"
      },
      "execution_count": null,
      "outputs": []
    },
    {
      "cell_type": "markdown",
      "source": [
        "705. Design HashSet"
      ],
      "metadata": {
        "id": "kY6alMkc12yc"
      }
    },
    {
      "cell_type": "code",
      "source": [
        "class MyHashSet:\n",
        "\n",
        "    def __init__(self):\n",
        "        self.size = 1000\n",
        "        self.buckets = [[] for _ in range(self.size)]\n",
        "\n",
        "    def _hash(self, key: int) -> int:\n",
        "        return key % self.size\n",
        "\n",
        "    def add(self, key: int) -> None:\n",
        "        bucket_index = self._hash(key)\n",
        "        bucket = self.buckets[bucket_index]\n",
        "        if key not in bucket:\n",
        "            bucket.append(key)\n",
        "\n",
        "    def remove(self, key: int) -> None:\n",
        "        bucket_index = self._hash(key)\n",
        "        bucket = self.buckets[bucket_index]\n",
        "        if key in bucket:\n",
        "            bucket.remove(key)\n",
        "\n",
        "    def contains(self, key: int) -> bool:\n",
        "        bucket_index = self._hash(key)\n",
        "        bucket = self.buckets[bucket_index]\n",
        "        return key in bucket"
      ],
      "metadata": {
        "id": "03XvwcPu16zL"
      },
      "execution_count": null,
      "outputs": []
    },
    {
      "cell_type": "markdown",
      "source": [
        "706. Design HashMap"
      ],
      "metadata": {
        "id": "vnozmxs31-qY"
      }
    },
    {
      "cell_type": "code",
      "source": [
        "class MyHashMap:\n",
        "\n",
        "    def __init__(self):\n",
        "        self.size = 1000\n",
        "        self.buckets = [[] for _ in range(self.size)]\n",
        "\n",
        "    def _hash(self, key: int) -> int:\n",
        "        return key % self.size\n",
        "\n",
        "    def put(self, key: int, value: int) -> None:\n",
        "        bucket_index = self._hash(key)\n",
        "        bucket = self.buckets[bucket_index]\n",
        "        for i, (k, v) in enumerate(bucket):\n",
        "            if k == key:\n",
        "                bucket[i] = (key, value)\n",
        "                return\n",
        "        bucket.append((key, value))\n",
        "\n",
        "    def get(self, key: int) -> int:\n",
        "        bucket_index = self._hash(key)\n",
        "        bucket = self.buckets[bucket_index]\n",
        "        for k, v in bucket:\n",
        "            if k == key:\n",
        "                return v\n",
        "        return -1\n",
        "\n",
        "    def remove(self, key: int) -> None:\n",
        "        bucket_index = self._hash(key)\n",
        "        bucket = self.buckets[bucket_index]\n",
        "        for i, (k, v) in enumerate(bucket):\n",
        "            if k == key:\n",
        "                del bucket[i]\n",
        "                return"
      ],
      "metadata": {
        "id": "DVT1Wuxb2CBL"
      },
      "execution_count": null,
      "outputs": []
    },
    {
      "cell_type": "markdown",
      "source": [
        "707. Design Linked List"
      ],
      "metadata": {
        "id": "q-T3JL6q2ICr"
      }
    },
    {
      "cell_type": "code",
      "source": [
        "class MyLinkedList:\n",
        "\n",
        "    class Node:\n",
        "        def __init__(self, val=0, next=None):\n",
        "            self.val = val\n",
        "            self.next = next\n",
        "\n",
        "    def __init__(self):\n",
        "        self.head = None\n",
        "        self.size = 0\n",
        "\n",
        "    def get(self, index: int) -> int:\n",
        "        if index < 0 or index >= self.size:\n",
        "            return -1\n",
        "        current = self.head\n",
        "        for _ in range(index):\n",
        "            current = current.next\n",
        "        return current.val\n",
        "\n",
        "    def addAtHead(self, val: int) -> None:\n",
        "        new_node = self.Node(val)\n",
        "        new_node.next = self.head\n",
        "        self.head = new_node\n",
        "        self.size += 1\n",
        "\n",
        "    def addAtTail(self, val: int) -> None:\n",
        "        new_node = self.Node(val)\n",
        "        if self.head is None:\n",
        "            self.head = new_node\n",
        "        else:\n",
        "            current = self.head\n",
        "            while current.next is not None:\n",
        "                current = current.next\n",
        "            current.next = new_node\n",
        "        self.size += 1\n",
        "\n",
        "    def addAtIndex(self, index: int, val: int) -> None:\n",
        "        if index < 0 or index > self.size:\n",
        "            return\n",
        "        if index == 0:\n",
        "            self.addAtHead(val)\n",
        "        else:\n",
        "            new_node = self.Node(val)\n",
        "            current = self.head\n",
        "            for _ in range(index - 1):\n",
        "                current = current.next\n",
        "            new_node.next = current.next\n",
        "            current.next = new_node\n",
        "            self.size += 1\n",
        "\n",
        "    def deleteAtIndex(self, index: int) -> None:\n",
        "        if index < 0 or index >= self.size:\n",
        "            return\n",
        "        if index == 0:\n",
        "            self.head = self.head.next\n",
        "        else:\n",
        "            current = self.head\n",
        "            for _ in range(index - 1):\n",
        "                current = current.next\n",
        "            current.next = current.next.next\n",
        "        self.size -= 1"
      ],
      "metadata": {
        "id": "xiak5OwB2LZx"
      },
      "execution_count": null,
      "outputs": []
    },
    {
      "cell_type": "markdown",
      "source": [
        "709. To Lower Case"
      ],
      "metadata": {
        "id": "RoYpg_kZ2N4H"
      }
    },
    {
      "cell_type": "code",
      "source": [
        "class Solution:\n",
        "    def toLowerCase(self, s: str) -> str:\n",
        "        return s.lower()"
      ],
      "metadata": {
        "id": "CZIVxOAP2RUM"
      },
      "execution_count": null,
      "outputs": []
    },
    {
      "cell_type": "markdown",
      "source": [
        "712. Minimum ASCII Delete Sum for Two Strings"
      ],
      "metadata": {
        "id": "EVRtXtEo2UIG"
      }
    },
    {
      "cell_type": "code",
      "source": [
        "class Solution:\n",
        "    def minimumDeleteSum(self, s1: str, s2: str) -> int:\n",
        "        m, n = len(s1), len(s2)\n",
        "        dp = [[0] * (n + 1) for _ in range(m + 1)]\n",
        "\n",
        "        for i in range(1, m + 1):\n",
        "            dp[i][0] = dp[i - 1][0] + ord(s1[i - 1])\n",
        "\n",
        "        for j in range(1, n + 1):\n",
        "            dp[0][j] = dp[0][j - 1] + ord(s2[j - 1])\n",
        "\n",
        "        for i in range(1, m + 1):\n",
        "            for j in range(1, n + 1):\n",
        "                if s1[i - 1] == s2[j - 1]:\n",
        "                    dp[i][j] = dp[i - 1][j - 1]\n",
        "                else:\n",
        "                    dp[i][j] = min(dp[i - 1][j] + ord(s1[i - 1]), dp[i][j - 1] + ord(s2[j - 1]))\n",
        "\n",
        "        return dp[m][n]"
      ],
      "metadata": {
        "id": "gN6Wqxwp2ZYS"
      },
      "execution_count": null,
      "outputs": []
    },
    {
      "cell_type": "markdown",
      "source": [
        "717. 1-bit and 2-bit Characters"
      ],
      "metadata": {
        "id": "eEvIkl352gTr"
      }
    },
    {
      "cell_type": "code",
      "source": [
        "class Solution:\n",
        "    def findLength(self, nums1: List[int], nums2: List[int]) -> int:\n",
        "        m, n = len(nums1), len(nums2)\n",
        "        dp = [[0] * (n + 1) for _ in range(m + 1)]\n",
        "        max_len = 0\n",
        "\n",
        "        for i in range(1, m + 1):\n",
        "            for j in range(1, n + 1):\n",
        "                if nums1[i - 1] == nums2[j - 1]:\n",
        "                    dp[i][j] = dp[i - 1][j - 1] + 1\n",
        "                    max_len = max(max_len, dp[i][j])\n",
        "\n",
        "        return max_len"
      ],
      "metadata": {
        "id": "8Wv4KAbk2k9D"
      },
      "execution_count": null,
      "outputs": []
    },
    {
      "cell_type": "markdown",
      "source": [
        "724. Find Pivot Index"
      ],
      "metadata": {
        "id": "zewk0sJg2nH7"
      }
    },
    {
      "cell_type": "code",
      "source": [
        "class Solution:\n",
        "    def pivotIndex(self, nums: List[int]) -> int:\n",
        "        total_sum = sum(nums)\n",
        "        left_sum = 0\n",
        "\n",
        "        for i, num in enumerate(nums):\n",
        "            if left_sum == (total_sum - left_sum - num):\n",
        "                return i\n",
        "            left_sum += num\n",
        "\n",
        "        return -1"
      ],
      "metadata": {
        "id": "Mz9qJfC42r5S"
      },
      "execution_count": null,
      "outputs": []
    },
    {
      "cell_type": "markdown",
      "source": [
        "725. Split Linked List in Parts"
      ],
      "metadata": {
        "id": "txsAaQb229wQ"
      }
    },
    {
      "cell_type": "code",
      "source": [
        "class Solution:\n",
        "    def splitListToParts(self, head: Optional[ListNode], k: int) -> List[Optional[ListNode]]:\n",
        "        current, length = head, 0\n",
        "        while current:\n",
        "            length += 1\n",
        "            current = current.next\n",
        "\n",
        "        part_length, extra = divmod(length, k)\n",
        "\n",
        "        parts = []\n",
        "        current = head\n",
        "        for i in range(k):\n",
        "            part_head = current\n",
        "            current_part_length = part_length + (1 if i < extra else 0)\n",
        "            for j in range(current_part_length - 1):\n",
        "                if current:\n",
        "                    current = current.next\n",
        "            if current:\n",
        "                next_part = current.next\n",
        "                current.next = None\n",
        "                current = next_part\n",
        "            parts.append(part_head)\n",
        "\n",
        "        return parts"
      ],
      "metadata": {
        "id": "Y5rRsVeY3BlH"
      },
      "execution_count": null,
      "outputs": []
    },
    {
      "cell_type": "markdown",
      "source": [
        "728. Self Dividing Numbers"
      ],
      "metadata": {
        "id": "ShD-1o3h3M4e"
      }
    },
    {
      "cell_type": "code",
      "source": [
        "class Solution:\n",
        "    def selfDividingNumbers(self, left: int, right: int) -> List[int]:\n",
        "        def is_self_dividing(num):\n",
        "            original_num = num\n",
        "            while num > 0:\n",
        "                digit = num % 10\n",
        "                if digit == 0 or original_num % digit != 0:\n",
        "                    return False\n",
        "                num //= 10\n",
        "            return True\n",
        "\n",
        "        result = []\n",
        "        for num in range(left, right + 1):\n",
        "            if is_self_dividing(num):\n",
        "                result.append(num)\n",
        "\n",
        "        return result"
      ],
      "metadata": {
        "id": "Fu7Z1rzG3vGJ"
      },
      "execution_count": null,
      "outputs": []
    },
    {
      "cell_type": "markdown",
      "source": [
        "733. Floor Fill"
      ],
      "metadata": {
        "id": "-wTzl-nE3w7I"
      }
    },
    {
      "cell_type": "code",
      "source": [
        "from typing import List\n",
        "\n",
        "class Solution:\n",
        "    def floodFill(self, image: List[List[int]], sr: int, sc: int, color: int) -> List[List[int]]:\n",
        "        rows, cols = len(image), len(image[0])\n",
        "\n",
        "        original_color = image[sr][sc]\n",
        "        if original_color == color:\n",
        "            return image\n",
        "\n",
        "        def dfs(r, c):\n",
        "            if r < 0 or r >= rows or c < 0 or c >= cols or image[r][c] != original_color:\n",
        "                return\n",
        "            image[r][c] = color\n",
        "            dfs(r + 1, c)\n",
        "            dfs(r - 1, c)\n",
        "            dfs(r, c + 1)\n",
        "            dfs(r, c - 1)\n",
        "\n",
        "        dfs(sr, sc)\n",
        "        return image\n"
      ],
      "metadata": {
        "id": "IUoNFxBx3z89"
      },
      "execution_count": null,
      "outputs": []
    },
    {
      "cell_type": "markdown",
      "source": [
        "743. Network Delay Time"
      ],
      "metadata": {
        "id": "ZmHDs-9Y35ch"
      }
    },
    {
      "cell_type": "code",
      "source": [
        "from typing import List\n",
        "import heapq\n",
        "\n",
        "class Solution:\n",
        "    def networkDelayTime(self, times: List[List[int]], n: int, k: int) -> int:\n",
        "        graph = {i: [] for i in range(1, n + 1)}\n",
        "        for u, v, w in times:\n",
        "            graph[u].append((v, w))\n",
        "\n",
        "        pq = [(0, k)]\n",
        "        dist = {i: float('inf') for i in range(1, n + 1)}\n",
        "        dist[k] = 0\n",
        "\n",
        "        while pq:\n",
        "            time, node = heapq.heappop(pq)\n",
        "\n",
        "            if time > dist[node]:\n",
        "                continue\n",
        "\n",
        "            for neighbor, weight in graph[node]:\n",
        "                d = time + weight\n",
        "                if d < dist[neighbor]:\n",
        "                    dist[neighbor] = d\n",
        "                    heapq.heappush(pq, (d, neighbor))\n",
        "\n",
        "        max_dist = max(dist.values())\n",
        "        return max_dist if max_dist < float('inf') else -1"
      ],
      "metadata": {
        "id": "N7xUjQ9H39W2"
      },
      "execution_count": null,
      "outputs": []
    },
    {
      "cell_type": "markdown",
      "source": [
        "746. Min Cost Climbing Stairs"
      ],
      "metadata": {
        "id": "cnLgIxTZ4DNp"
      }
    },
    {
      "cell_type": "code",
      "source": [
        "from typing import List\n",
        "\n",
        "class Solution:\n",
        "    def minCostClimbingStairs(self, cost: List[int]) -> int:\n",
        "        prev1, prev2 = 0, 0\n",
        "\n",
        "        for c in cost:\n",
        "            curr = c + min(prev1, prev2)\n",
        "            prev2 = prev1\n",
        "            prev1 = curr\n",
        "\n",
        "        return min(prev1, prev2)"
      ],
      "metadata": {
        "id": "eb3E-WaK5KTm"
      },
      "execution_count": null,
      "outputs": []
    },
    {
      "cell_type": "markdown",
      "source": [
        "747. Largest Number At Least Twice of Others"
      ],
      "metadata": {
        "id": "vLnEIETg5Ory"
      }
    },
    {
      "cell_type": "code",
      "source": [
        "from typing import List\n",
        "\n",
        "class Solution:\n",
        "    def dominantIndex(self, nums: List[int]) -> int:\n",
        "        if len(nums) == 1:\n",
        "            return 0\n",
        "\n",
        "        max_val = second_max_val = float('-inf')\n",
        "        max_index = -1\n",
        "\n",
        "        for i, num in enumerate(nums):\n",
        "            if num > max_val:\n",
        "                second_max_val = max_val\n",
        "                max_val = num\n",
        "                max_index = i\n",
        "            elif num > second_max_val:\n",
        "                second_max_val = num\n",
        "\n",
        "        if max_val >= 2 * second_max_val:\n",
        "            return max_index\n",
        "        else:\n",
        "            return -1"
      ],
      "metadata": {
        "id": "MZ1N71ZY5Tfc"
      },
      "execution_count": null,
      "outputs": []
    },
    {
      "cell_type": "markdown",
      "source": [
        "748. Shortest Completing Word"
      ],
      "metadata": {
        "id": "Y86Oe4Xv5Xoc"
      }
    },
    {
      "cell_type": "code",
      "source": [
        "from typing import List\n",
        "from collections import Counter\n",
        "\n",
        "class Solution:\n",
        "    def shortestCompletingWord(self, licensePlate: str, words: List[str]) -> str:\n",
        "        filtered_plate = [char.lower() for char in licensePlate if char.isalpha()]\n",
        "\n",
        "        plate_count = Counter(filtered_plate)\n",
        "\n",
        "        def is_completing(word):\n",
        "            word_count = Counter(word)\n",
        "            for char, count in plate_count.items():\n",
        "                if word_count[char] < count:\n",
        "                    return False\n",
        "            return True\n",
        "\n",
        "        shortest_word = None\n",
        "\n",
        "        for word in words:\n",
        "            if is_completing(word):\n",
        "                if shortest_word is None or len(word) < len(shortest_word):\n",
        "                    shortest_word = word\n",
        "\n",
        "        return shortest_word"
      ],
      "metadata": {
        "id": "V-R4g68s5bAY"
      },
      "execution_count": null,
      "outputs": []
    },
    {
      "cell_type": "markdown",
      "source": [
        "756. Pyramid Transition Matrix"
      ],
      "metadata": {
        "id": "9AZ0t9p35e-w"
      }
    },
    {
      "cell_type": "code",
      "source": [
        "from typing import List\n",
        "from collections import defaultdict\n",
        "\n",
        "class Solution:\n",
        "    def pyramidTransition(self, bottom: str, allowed: List[str]) -> bool:\n",
        "        transitions = defaultdict(list)\n",
        "        for triplet in allowed:\n",
        "            transitions[(triplet[0], triplet[1])].append(triplet[2])\n",
        "\n",
        "        def can_build_pyramid(current_level: str, next_level: str) -> bool:\n",
        "            if len(current_level) == 1:\n",
        "                return True\n",
        "\n",
        "            if len(next_level) + 1 == len(current_level):\n",
        "                return can_build_pyramid(next_level, \"\")\n",
        "\n",
        "            pos = len(next_level)\n",
        "            base_pair = (current_level[pos], current_level[pos + 1])\n",
        "            if base_pair in transitions:\n",
        "                for c in transitions[base_pair]:\n",
        "                    if can_build_pyramid(current_level, next_level + c):\n",
        "                        return True\n",
        "\n",
        "            return False\n",
        "\n",
        "        return can_build_pyramid(bottom, \"\")"
      ],
      "metadata": {
        "id": "bSjzG7CH5lMQ"
      },
      "execution_count": null,
      "outputs": []
    },
    {
      "cell_type": "markdown",
      "source": [
        "763. Partition Labels"
      ],
      "metadata": {
        "id": "hq928Ltw5nx8"
      }
    },
    {
      "cell_type": "code",
      "source": [
        "from typing import List\n",
        "\n",
        "class Solution:\n",
        "    def partitionLabels(self, s: str) -> List[int]:\n",
        "        last_occurrence = {c: i for i, c in enumerate(s)}\n",
        "\n",
        "        partitions = []\n",
        "        start, end = 0, 0\n",
        "\n",
        "        for i, c in enumerate(s):\n",
        "            end = max(end, last_occurrence[c])\n",
        "            if i == end:\n",
        "                partitions.append(i - start + 1)\n",
        "                start = i + 1\n",
        "\n",
        "        return partitions"
      ],
      "metadata": {
        "id": "Egd0R6j_502k"
      },
      "execution_count": null,
      "outputs": []
    },
    {
      "cell_type": "markdown",
      "source": [
        "764. Largest Plus Sign"
      ],
      "metadata": {
        "id": "67ww2hHB54Vm"
      }
    },
    {
      "cell_type": "code",
      "source": [
        "from typing import List\n",
        "\n",
        "class Solution:\n",
        "    def orderOfLargestPlusSign(self, n: int, mines: List[List[int]]) -> int:\n",
        "        grid = [[n] * n for _ in range(n)]\n",
        "\n",
        "        for x, y in mines:\n",
        "            grid[x][y] = 0\n",
        "\n",
        "        left = [[0] * n for _ in range(n)]\n",
        "        right = [[0] * n for _ in range(n)]\n",
        "        up = [[0] * n for _ in range(n)]\n",
        "        down = [[0] * n for _ in range(n)]\n",
        "\n",
        "        for i in range(n):\n",
        "            for j in range(n):\n",
        "                if grid[i][j] != 0:\n",
        "                    left[i][j] = (left[i][j-1] if j > 0 else 0) + 1\n",
        "                    up[i][j] = (up[i-1][j] if i > 0 else 0) + 1\n",
        "\n",
        "        for i in range(n-1, -1, -1):\n",
        "            for j in range(n-1, -1, -1):\n",
        "                if grid[i][j] != 0:\n",
        "                    right[i][j] = (right[i][j+1] if j < n-1 else 0) + 1\n",
        "                    down[i][j] = (down[i+1][j] if i < n-1 else 0) + 1\n",
        "\n",
        "        max_order = 0\n",
        "        for i in range(n):\n",
        "            for j in range(n):\n",
        "                if grid[i][j] != 0:\n",
        "                    order = min(left[i][j], right[i][j], up[i][j], down[i][j])\n",
        "                    max_order = max(max_order, order)\n",
        "\n",
        "        return max_order"
      ],
      "metadata": {
        "id": "ArT3gNFJ57zt"
      },
      "execution_count": null,
      "outputs": []
    },
    {
      "cell_type": "markdown",
      "source": [
        "783. Minimum Distance Between BST Nodes"
      ],
      "metadata": {
        "id": "cVIWH9Su6Azg"
      }
    },
    {
      "cell_type": "code",
      "source": [
        "class Solution:\n",
        "    def minDiffInBST(self, root: Optional[TreeNode]) -> int:\n",
        "        def in_order_traversal(node):\n",
        "            if not node:\n",
        "                return []\n",
        "            return in_order_traversal(node.left) + [node.val] + in_order_traversal(node.right)\n",
        "\n",
        "        values = in_order_traversal(root)\n",
        "        min_diff = float('inf')\n",
        "\n",
        "        for i in range(1, len(values)):\n",
        "            min_diff = min(min_diff, values[i] - values[i-1])\n",
        "\n",
        "        return min_diff"
      ],
      "metadata": {
        "id": "ehsvX7Fa6Zpl"
      },
      "execution_count": null,
      "outputs": []
    },
    {
      "cell_type": "markdown",
      "source": [
        "784. Letter Case Permutation"
      ],
      "metadata": {
        "id": "12cNFhFk6b1t"
      }
    },
    {
      "cell_type": "code",
      "source": [
        "class Solution:\n",
        "    def letterCasePermutation(self, s: str) -> List[str]:\n",
        "        result = []\n",
        "\n",
        "        def backtrack(sub=\"\", i=0):\n",
        "            if i == len(s):\n",
        "                result.append(sub)\n",
        "                return\n",
        "\n",
        "            if s[i].isalpha():\n",
        "                backtrack(sub + s[i].lower(), i + 1)\n",
        "                backtrack(sub + s[i].upper(), i + 1)\n",
        "            else:\n",
        "                backtrack(sub + s[i], i + 1)\n",
        "\n",
        "        backtrack()\n",
        "        return result"
      ],
      "metadata": {
        "id": "d5t6CiFg6fUe"
      },
      "execution_count": null,
      "outputs": []
    },
    {
      "cell_type": "markdown",
      "source": [
        "796. Rotate String"
      ],
      "metadata": {
        "id": "bU4Yaa0c6jk5"
      }
    },
    {
      "cell_type": "code",
      "source": [
        "class Solution:\n",
        "    def rotateString(self, s: str, goal: str) -> bool:\n",
        "        if len(s) != len(goal):\n",
        "            return False\n",
        "        return goal in (s + s)"
      ],
      "metadata": {
        "id": "TgnHTORM6nvG"
      },
      "execution_count": null,
      "outputs": []
    },
    {
      "cell_type": "markdown",
      "source": [
        "797. All Paths From Source to Target"
      ],
      "metadata": {
        "id": "MTTK3c0y6odA"
      }
    },
    {
      "cell_type": "code",
      "source": [
        "class Solution:\n",
        "    def allPathsSourceTarget(self, graph: List[List[int]]) -> List[List[int]]:\n",
        "        def dfs(node, path):\n",
        "            if node == len(graph) - 1:\n",
        "                result.append(path)\n",
        "                return\n",
        "            for neighbor in graph[node]:\n",
        "                dfs(neighbor, path + [neighbor])\n",
        "\n",
        "        result = []\n",
        "        dfs(0, [0])\n",
        "        return result"
      ],
      "metadata": {
        "id": "2RZVkB1j6tId"
      },
      "execution_count": null,
      "outputs": []
    },
    {
      "cell_type": "markdown",
      "source": [
        "799. Champagne Tower"
      ],
      "metadata": {
        "id": "eprWaaP16un0"
      }
    },
    {
      "cell_type": "code",
      "source": [
        "class Solution:\n",
        "    def champagneTower(self, poured: int, query_row: int, query_glass: int) -> float:\n",
        "        dp = [[0] * k for k in range(1, 102)]\n",
        "        dp[0][0] = poured\n",
        "\n",
        "        for r in range(query_row + 1):\n",
        "            for c in range(r + 1):\n",
        "                overflow = (dp[r][c] - 1.0) / 2.0\n",
        "                if overflow > 0:\n",
        "                    dp[r + 1][c] += overflow\n",
        "                    dp[r + 1][c + 1] += overflow\n",
        "\n",
        "        return min(1, dp[query_row][query_glass])"
      ],
      "metadata": {
        "id": "FUq-QGCD6yWu"
      },
      "execution_count": null,
      "outputs": []
    },
    {
      "cell_type": "markdown",
      "source": [
        "802. Find Eventual Safe States"
      ],
      "metadata": {
        "id": "zZFtOYI364bd"
      }
    },
    {
      "cell_type": "code",
      "source": [
        "class Solution:\n",
        "    def eventualSafeNodes(self, graph: List[List[int]]) -> List[int]:\n",
        "        n = len(graph)\n",
        "        color = [0] * n\n",
        "\n",
        "        def dfs(node):\n",
        "            if color[node] > 0:\n",
        "                return color[node] == 2\n",
        "            color[node] = 1\n",
        "            for neighbor in graph[node]:\n",
        "                if color[neighbor] == 2:\n",
        "                    continue\n",
        "                if color[neighbor] == 1 or not dfs(neighbor):\n",
        "                    return False\n",
        "            color[node] = 2\n",
        "            return True\n",
        "\n",
        "        return [i for i in range(n) if dfs(i)]"
      ],
      "metadata": {
        "id": "-Yf6fIUC68KR"
      },
      "execution_count": null,
      "outputs": []
    },
    {
      "cell_type": "markdown",
      "source": [
        "804. Unique Morse Code Words"
      ],
      "metadata": {
        "id": "9tjLOb5T7AtX"
      }
    },
    {
      "cell_type": "code",
      "source": [
        "class Solution:\n",
        "    def uniqueMorseRepresentations(self, words: List[str]) -> int:\n",
        "        morse_codes = [\n",
        "            \".-\", \"-...\", \"-.-.\", \"-..\", \".\", \"..-.\", \"--.\", \"....\", \"..\",\n",
        "            \".---\", \"-.-\", \".-..\", \"--\", \"-.\", \"---\", \".--.\", \"--.-\", \".-.\",\n",
        "            \"...\", \"-\", \"..-\", \"...-\", \".--\", \"-..-\", \"-.--\", \"--..\"\n",
        "        ]\n",
        "        alphabet = 'abcdefghijklmnopqrstuvwxyz'\n",
        "        morse_dict = {alphabet[i]: morse_codes[i] for i in range(26)}\n",
        "\n",
        "        unique_transformations = {\"\".join(morse_dict[char] for char in word) for word in words}\n",
        "\n",
        "        return len(unique_transformations)"
      ],
      "metadata": {
        "id": "-7qS6vQW7F9x"
      },
      "execution_count": null,
      "outputs": []
    },
    {
      "cell_type": "markdown",
      "source": [
        "806. Number of Lines To Write String"
      ],
      "metadata": {
        "id": "c0K1e9L47IX8"
      }
    },
    {
      "cell_type": "code",
      "source": [
        "class Solution:\n",
        "    def numberOfLines(self, widths: List[int], s: str) -> List[int]:\n",
        "        lines = 1\n",
        "        current_width = 0\n",
        "        for char in s:\n",
        "            char_width = widths[ord(char) - ord('a')]\n",
        "            if current_width + char_width > 100:\n",
        "                lines += 1\n",
        "                current_width = char_width\n",
        "            else:\n",
        "                current_width += char_width\n",
        "        return [lines, current_width]"
      ],
      "metadata": {
        "id": "QAcKMdu_-ZNT"
      },
      "execution_count": null,
      "outputs": []
    },
    {
      "cell_type": "markdown",
      "source": [
        "807. Mas Increase to Keep City Skyline"
      ],
      "metadata": {
        "id": "EikEFDCO-bX-"
      }
    },
    {
      "cell_type": "code",
      "source": [
        "class Solution:\n",
        "    def maxIncreaseKeepingSkyline(self, grid: List[List[int]]) -> int:\n",
        "        n = len(grid)\n",
        "\n",
        "        row_maxes = [max(row) for row in grid]\n",
        "        col_maxes = [max(grid[i][j] for i in range(n)) for j in range(n)]\n",
        "\n",
        "        increase = 0\n",
        "        for i in range(n):\n",
        "            for j in range(n):\n",
        "                increase += min(row_maxes[i], col_maxes[j]) - grid[i][j]\n",
        "\n",
        "        return increase"
      ],
      "metadata": {
        "id": "g_Rpi5DE-gya"
      },
      "execution_count": null,
      "outputs": []
    },
    {
      "cell_type": "markdown",
      "source": [
        "812. Largest Triangle Area"
      ],
      "metadata": {
        "id": "8HCifdfz-lhB"
      }
    },
    {
      "cell_type": "code",
      "source": [
        "class Solution:\n",
        "    def largestTriangleArea(self, points: List[List[int]]) -> float:\n",
        "        def area(x1, y1, x2, y2, x3, y3):\n",
        "            return abs(x1 * (y2 - y3) + x2 * (y3 - y1) + x3 * (y1 - y2)) / 2.0\n",
        "\n",
        "        max_area = 0\n",
        "        n = len(points)\n",
        "\n",
        "        for i in range(n):\n",
        "            for j in range(i + 1, n):\n",
        "                for k in range(j + 1, n):\n",
        "                    max_area = max(max_area, area(points[i][0], points[i][1], points[j][0], points[j][1], points[k][0], points[k][1]))\n",
        "\n",
        "        return max_area"
      ],
      "metadata": {
        "id": "Hzzm4nT0-oJ7"
      },
      "execution_count": null,
      "outputs": []
    },
    {
      "cell_type": "markdown",
      "source": [
        "844. Backspace String Compare"
      ],
      "metadata": {
        "id": "l4p-VM60CuM8"
      }
    },
    {
      "cell_type": "code",
      "source": [
        "class Solution:\n",
        "    def backspaceCompare(self, s: str, t: str) -> bool:\n",
        "        def build(string: str) -> str:\n",
        "            result = []\n",
        "            for char in string:\n",
        "                if char != '#':\n",
        "                    result.append(char)\n",
        "                elif result:\n",
        "                    result.pop()\n",
        "            return \"\".join(result)\n",
        "\n",
        "        return build(s) == build(t)"
      ],
      "metadata": {
        "id": "Oy2AmHghCx8D"
      },
      "execution_count": null,
      "outputs": []
    }
  ]
}